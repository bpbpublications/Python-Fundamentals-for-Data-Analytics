{
 "cells": [
  {
   "cell_type": "markdown",
   "id": "0ee5921e-4dcd-49a0-92a4-cb3d4b4b0f73",
   "metadata": {},
   "source": [
    "# Chapter 6\n",
    "# Iterating constructs\n",
    "### Looping"
   ]
  },
  {
   "cell_type": "code",
   "execution_count": 1,
   "id": "c77cfe31-0883-40c8-b944-728b4d6167e7",
   "metadata": {},
   "outputs": [
    {
     "name": "stdout",
     "output_type": "stream",
     "text": [
      "<class 'list'>\n",
      "Science\n",
      "Maths\n",
      "Social\n"
     ]
    }
   ],
   "source": [
    "subjects = ['Science', 'Maths', 'Social']\n",
    "print(type(subjects))\n",
    "for i in subjects:\n",
    "    print(i)"
   ]
  },
  {
   "cell_type": "code",
   "execution_count": 2,
   "id": "f5acf0a1-4ec0-4c74-b897-604e5835acec",
   "metadata": {},
   "outputs": [
    {
     "data": {
      "text/plain": [
       "<str_ascii_iterator at 0x23d18239690>"
      ]
     },
     "execution_count": 2,
     "metadata": {},
     "output_type": "execute_result"
    }
   ],
   "source": [
    "iter('Python')                                  # String object"
   ]
  },
  {
   "cell_type": "code",
   "execution_count": 3,
   "id": "72e7d94e-ab01-4916-9fd1-0738c0cafb91",
   "metadata": {},
   "outputs": [
    {
     "data": {
      "text/plain": [
       "<list_iterator at 0x23d1955b4c0>"
      ]
     },
     "execution_count": 3,
     "metadata": {},
     "output_type": "execute_result"
    }
   ],
   "source": [
    "iter(['Python', 'Programming', 'Language'])      # List object"
   ]
  },
  {
   "cell_type": "code",
   "execution_count": 4,
   "id": "5e7abeec-d245-4fa1-b49b-9f7bd5a0cf3a",
   "metadata": {},
   "outputs": [
    {
     "data": {
      "text/plain": [
       "<tuple_iterator at 0x23d1950f0d0>"
      ]
     },
     "execution_count": 4,
     "metadata": {},
     "output_type": "execute_result"
    }
   ],
   "source": [
    "iter(('Python', 'Programming', 'Language'))      # Tupleobject"
   ]
  },
  {
   "cell_type": "code",
   "execution_count": 5,
   "id": "5576fda9-9a8d-4335-b6e1-45e00877c58f",
   "metadata": {},
   "outputs": [
    {
     "data": {
      "text/plain": [
       "<set_iterator at 0x23d19572b40>"
      ]
     },
     "execution_count": 5,
     "metadata": {},
     "output_type": "execute_result"
    }
   ],
   "source": [
    "iter({'Python', 'Programming', 'Language'})      # Set object"
   ]
  },
  {
   "cell_type": "code",
   "execution_count": 6,
   "id": "d894fdc1-0579-42e7-9def-deccc2028962",
   "metadata": {},
   "outputs": [
    {
     "data": {
      "text/plain": [
       "<dict_keyiterator at 0x23d1956f3d0>"
      ]
     },
     "execution_count": 6,
     "metadata": {},
     "output_type": "execute_result"
    }
   ],
   "source": [
    "iter({'Python' : 1, 'Programming' : 2, 'Language' : 3})      # Dictionary object"
   ]
  },
  {
   "cell_type": "code",
   "execution_count": 7,
   "id": "3cd98b9e-4c05-4f3d-b1fc-720b8cf9861f",
   "metadata": {},
   "outputs": [
    {
     "ename": "TypeError",
     "evalue": "'int' object is not iterable",
     "output_type": "error",
     "traceback": [
      "\u001b[1;31m---------------------------------------------------------------------------\u001b[0m",
      "\u001b[1;31mTypeError\u001b[0m                                 Traceback (most recent call last)",
      "Cell \u001b[1;32mIn[7], line 1\u001b[0m\n\u001b[1;32m----> 1\u001b[0m \u001b[38;5;28;43miter\u001b[39;49m\u001b[43m(\u001b[49m\u001b[38;5;241;43m8\u001b[39;49m\u001b[43m)\u001b[49m\n",
      "\u001b[1;31mTypeError\u001b[0m: 'int' object is not iterable"
     ]
    }
   ],
   "source": [
    "iter(8)"
   ]
  },
  {
   "cell_type": "code",
   "execution_count": 8,
   "id": "7ac495ed-48d4-4fa5-9bf4-045d56cf6a4b",
   "metadata": {},
   "outputs": [
    {
     "ename": "TypeError",
     "evalue": "'_Helper' object is not iterable",
     "output_type": "error",
     "traceback": [
      "\u001b[1;31m---------------------------------------------------------------------------\u001b[0m",
      "\u001b[1;31mTypeError\u001b[0m                                 Traceback (most recent call last)",
      "Cell \u001b[1;32mIn[8], line 1\u001b[0m\n\u001b[1;32m----> 1\u001b[0m \u001b[38;5;28;43miter\u001b[39;49m\u001b[43m(\u001b[49m\u001b[43mhelp\u001b[49m\u001b[43m)\u001b[49m\n",
      "\u001b[1;31mTypeError\u001b[0m: '_Helper' object is not iterable"
     ]
    }
   ],
   "source": [
    "iter(help)"
   ]
  },
  {
   "cell_type": "code",
   "execution_count": 9,
   "id": "3b2fba14-3f18-4ec0-b8c4-8ef0206e2bd9",
   "metadata": {},
   "outputs": [
    {
     "name": "stdout",
     "output_type": "stream",
     "text": [
      "<list_iterator object at 0x0000023D1955A560>\n"
     ]
    }
   ],
   "source": [
    "subjects = ['Science', 'Maths', 'Social']\n",
    "i = iter(subjects)\n",
    "print(i)"
   ]
  },
  {
   "cell_type": "code",
   "execution_count": 10,
   "id": "888f47e7-9bc3-487b-be5c-343ac1394afc",
   "metadata": {},
   "outputs": [
    {
     "data": {
      "text/plain": [
       "'Science'"
      ]
     },
     "execution_count": 10,
     "metadata": {},
     "output_type": "execute_result"
    }
   ],
   "source": [
    "next(i)"
   ]
  },
  {
   "cell_type": "code",
   "execution_count": 11,
   "id": "e51bb9be-ef1e-4924-b5cf-61542963f653",
   "metadata": {},
   "outputs": [
    {
     "data": {
      "text/plain": [
       "'Maths'"
      ]
     },
     "execution_count": 11,
     "metadata": {},
     "output_type": "execute_result"
    }
   ],
   "source": [
    "next(i)"
   ]
  },
  {
   "cell_type": "code",
   "execution_count": 12,
   "id": "4e990d43-ffe8-4d47-9cc3-9d74e23c40ee",
   "metadata": {},
   "outputs": [
    {
     "data": {
      "text/plain": [
       "'Social'"
      ]
     },
     "execution_count": 12,
     "metadata": {},
     "output_type": "execute_result"
    }
   ],
   "source": [
    "next(i)"
   ]
  },
  {
   "cell_type": "code",
   "execution_count": 13,
   "id": "72e07662-d20f-46af-a5b2-6e0450904362",
   "metadata": {},
   "outputs": [
    {
     "name": "stdout",
     "output_type": "stream",
     "text": [
      "<class 'list'>\n",
      "Science\n",
      "Maths\n",
      "Social\n"
     ]
    }
   ],
   "source": [
    "# iterating through list objects\n",
    "subjects = ['Science', 'Maths', 'Social']\n",
    "print(type(subjects))\n",
    "for i in subjects:\n",
    "    print(i)"
   ]
  },
  {
   "cell_type": "code",
   "execution_count": 14,
   "id": "97a7d19b-3c80-41a3-8a2a-119efbe4cf1e",
   "metadata": {},
   "outputs": [
    {
     "name": "stdout",
     "output_type": "stream",
     "text": [
      "<class 'tuple'>\n",
      "Science\n",
      "Maths\n",
      "Social\n"
     ]
    }
   ],
   "source": [
    "# iterating through tuple objects\n",
    "subjects = ('Science', 'Maths', 'Social')\n",
    "print(type(subjects))\n",
    "for i in subjects:\n",
    "    print(i)"
   ]
  },
  {
   "cell_type": "code",
   "execution_count": 15,
   "id": "04a8db93-b52d-4021-8243-3a939ca387c9",
   "metadata": {},
   "outputs": [
    {
     "name": "stdout",
     "output_type": "stream",
     "text": [
      "<class 'set'>\n",
      "Science\n",
      "Maths\n",
      "Social\n"
     ]
    }
   ],
   "source": [
    "# iterating through set objects\n",
    "subjects = {'Science', 'Maths', 'Social'}\n",
    "print(type(subjects))\n",
    "for i in subjects:\n",
    "    print(i)"
   ]
  },
  {
   "cell_type": "code",
   "execution_count": 16,
   "id": "2bc45d9c-4297-4878-a53c-b3f0145fba5f",
   "metadata": {},
   "outputs": [
    {
     "name": "stdout",
     "output_type": "stream",
     "text": [
      "<class 'dict'>\n",
      "Science\n",
      "Maths\n",
      "Social\n"
     ]
    }
   ],
   "source": [
    "# iterating through dictionary objects\n",
    "subjects = {'Science':1, 'Maths':2, 'Social':3}\n",
    "print(type(subjects))\n",
    "for i in subjects:\n",
    "    print(i)"
   ]
  },
  {
   "cell_type": "code",
   "execution_count": 17,
   "id": "7dc02528-8279-46b4-ab87-e7f1483a2e7e",
   "metadata": {},
   "outputs": [
    {
     "name": "stdout",
     "output_type": "stream",
     "text": [
      "<class 'dict'>\n"
     ]
    }
   ],
   "source": [
    "# iterating through dictionary values\n",
    "subjects = {'Science':1, 'Maths':2, 'Social':3}\n",
    "print(type(subjects))"
   ]
  },
  {
   "cell_type": "code",
   "execution_count": 18,
   "id": "347b41ca-b08c-4e27-b124-5129750bb617",
   "metadata": {},
   "outputs": [
    {
     "name": "stdout",
     "output_type": "stream",
     "text": [
      "1\n",
      "2\n",
      "3\n"
     ]
    }
   ],
   "source": [
    "# first method\n",
    "for i in subjects.values():\n",
    "    print(i)"
   ]
  },
  {
   "cell_type": "code",
   "execution_count": 19,
   "id": "f33cd94d-ad38-49ea-81c3-309149c7bb37",
   "metadata": {},
   "outputs": [
    {
     "name": "stdout",
     "output_type": "stream",
     "text": [
      "1\n",
      "2\n",
      "3\n"
     ]
    }
   ],
   "source": [
    "# second method\n",
    "for i in subjects:\n",
    "    print(subjects[i])"
   ]
  },
  {
   "cell_type": "code",
   "execution_count": 20,
   "id": "730ce336-6500-4467-aed2-5fa270570fa4",
   "metadata": {},
   "outputs": [
    {
     "name": "stdout",
     "output_type": "stream",
     "text": [
      "<class 'dict'>\n"
     ]
    }
   ],
   "source": [
    "# iterating through both dictionary keys and values\n",
    "subjects = {'Science':1, 'Maths':2, 'Social':3}\n",
    "print(type(subjects))"
   ]
  },
  {
   "cell_type": "code",
   "execution_count": 21,
   "id": "79e32ad7-bb16-4bc3-8dc2-727215c1d653",
   "metadata": {},
   "outputs": [
    {
     "name": "stdout",
     "output_type": "stream",
     "text": [
      "Science 1\n",
      "Maths 2\n",
      "Social 3\n"
     ]
    }
   ],
   "source": [
    "# first method\n",
    "for i in subjects:\n",
    "    print(i, subjects[i])"
   ]
  },
  {
   "cell_type": "code",
   "execution_count": 22,
   "id": "3b7e4392-d688-4501-83ac-2de0f8760c79",
   "metadata": {},
   "outputs": [
    {
     "name": "stdout",
     "output_type": "stream",
     "text": [
      "Science 1\n",
      "Maths 2\n",
      "Social 3\n"
     ]
    }
   ],
   "source": [
    "# second method\n",
    "for k, i in subjects.items():\n",
    "    print(k, i)"
   ]
  },
  {
   "cell_type": "code",
   "execution_count": 23,
   "id": "3508efc6-832a-48fa-b6f5-d39c08525964",
   "metadata": {},
   "outputs": [
    {
     "data": {
      "text/plain": [
       "dict_items([('Science', 1), ('Maths', 2), ('Social', 3)])"
      ]
     },
     "execution_count": 23,
     "metadata": {},
     "output_type": "execute_result"
    }
   ],
   "source": [
    "# Alternative method\n",
    "# instead of using the for loop you can also use\n",
    "# dictionary name followed by .items() to display the keys and values\n",
    "subjects.items()"
   ]
  },
  {
   "cell_type": "code",
   "execution_count": 24,
   "id": "4db0f09d-8261-4154-8f3d-4c78c0ef16db",
   "metadata": {},
   "outputs": [
    {
     "name": "stdout",
     "output_type": "stream",
     "text": [
      "<class 'list'>\n",
      "Science\n"
     ]
    }
   ],
   "source": [
    "# Demonstrating break statement\n",
    "subjects = ['Science', 'Maths', 'Social']\n",
    "print(type(subjects))\n",
    "for i in subjects:\n",
    "    if 'M' in i:\n",
    "        break\n",
    "    print(i)"
   ]
  },
  {
   "cell_type": "code",
   "execution_count": 25,
   "id": "60564eb5-cbac-4a32-8656-918938978c50",
   "metadata": {},
   "outputs": [
    {
     "name": "stdout",
     "output_type": "stream",
     "text": [
      "<class 'list'>\n",
      "Science\n",
      "Social\n"
     ]
    }
   ],
   "source": [
    "# Demonstrating continue statement\n",
    "subjects = ['Science', 'Maths', 'Social']\n",
    "print(type(subjects))\n",
    "for i in subjects:\n",
    "    if 'M' in i:\n",
    "        continue\n",
    "    print(i)"
   ]
  },
  {
   "cell_type": "code",
   "execution_count": 26,
   "id": "ee996eaf-3431-4e6a-9682-751cd0facc57",
   "metadata": {},
   "outputs": [
    {
     "name": "stdout",
     "output_type": "stream",
     "text": [
      "Science\n"
     ]
    }
   ],
   "source": [
    "# Demonstrating else statement along with break\n",
    "subjects = ['Science', 'Maths', 'Social']\n",
    "\n",
    "for i in subjects:\n",
    "    if 'M' in i:\n",
    "        break\n",
    "    print(i)\n",
    "else:\n",
    "    print(\"Completed iterating through all the objects\")"
   ]
  },
  {
   "cell_type": "code",
   "execution_count": 27,
   "id": "4d65b41b-4838-4773-8995-6ee35b7f77e1",
   "metadata": {},
   "outputs": [
    {
     "name": "stdout",
     "output_type": "stream",
     "text": [
      "Science\n",
      "Social\n",
      "Completed iterating through all the objects\n"
     ]
    }
   ],
   "source": [
    "# Demonstrating else statement along with continue\n",
    "subjects = ['Science', 'Maths', 'Social']\n",
    "\n",
    "for i in subjects:\n",
    "    if 'M' in i:\n",
    "        continue\n",
    "    print(i)\n",
    "else:\n",
    "    print(\"Completed iterating through all the objects\")"
   ]
  },
  {
   "cell_type": "code",
   "execution_count": 28,
   "id": "9b3dfbb4-80c5-49eb-ace5-ba8e39a1c583",
   "metadata": {},
   "outputs": [
    {
     "name": "stdout",
     "output_type": "stream",
     "text": [
      "1\n",
      "2\n",
      "3\n",
      "4\n",
      "5\n",
      "6\n",
      "7\n",
      "8\n",
      "9\n",
      "10\n"
     ]
    }
   ],
   "source": [
    "# Demonstrating while loop\n",
    "num = 1\n",
    "\n",
    "while num <= 10:\n",
    "    print(num)\n",
    "    num = num + 1"
   ]
  },
  {
   "cell_type": "code",
   "execution_count": 29,
   "id": "e6be5dd8-780b-4bf1-ab6d-f9e5b0947c18",
   "metadata": {},
   "outputs": [
    {
     "name": "stdout",
     "output_type": "stream",
     "text": [
      "Social\n",
      "Maths\n",
      "Science\n"
     ]
    }
   ],
   "source": [
    "# Using while loop to iterate through the objects of a collection\n",
    "subjects = ['Science', 'Maths', 'Social']\n",
    "\n",
    "while subjects:\n",
    "    print(subjects.pop(-1))"
   ]
  },
  {
   "cell_type": "code",
   "execution_count": 30,
   "id": "3ab02bee-e46f-484c-a8c5-4370435d4a59",
   "metadata": {},
   "outputs": [
    {
     "name": "stdout",
     "output_type": "stream",
     "text": [
      "1\n",
      "2\n",
      "3\n"
     ]
    }
   ],
   "source": [
    "# Demonstrating break in while loop\n",
    "num = 0\n",
    "\n",
    "while num <= 10:\n",
    "    num = num + 1\n",
    "    if num == 4:\n",
    "        break\n",
    "    print(num)"
   ]
  },
  {
   "cell_type": "code",
   "execution_count": 31,
   "id": "049f0b22-3fa1-4767-8f71-96427aea69e0",
   "metadata": {},
   "outputs": [
    {
     "name": "stdout",
     "output_type": "stream",
     "text": [
      "1\n",
      "2\n",
      "3\n",
      "5\n",
      "6\n",
      "7\n",
      "8\n",
      "9\n",
      "10\n"
     ]
    }
   ],
   "source": [
    "# Demonstrating continue statement in while loop\n",
    "num = 0\n",
    "\n",
    "while num < 10:\n",
    "    num = num + 1\n",
    "    if num == 4:\n",
    "        continue\n",
    "    print(num)"
   ]
  },
  {
   "cell_type": "code",
   "execution_count": 32,
   "id": "6ab60321-10d9-42b9-b5c7-0fd20c1765b0",
   "metadata": {},
   "outputs": [
    {
     "name": "stdout",
     "output_type": "stream",
     "text": [
      "1\n",
      "2\n",
      "3\n",
      "4\n",
      "5\n",
      "6\n",
      "7\n",
      "8\n",
      "9\n",
      "10\n",
      "the while loop has ended!\n"
     ]
    }
   ],
   "source": [
    "# Demonstrating else statement in while loop\n",
    "num = 0\n",
    "\n",
    "while num < 10:\n",
    "    num = num + 1\n",
    "    print(num)\n",
    "else:\n",
    "    print(\"the while loop has ended!\")"
   ]
  },
  {
   "cell_type": "code",
   "execution_count": 33,
   "id": "2e59ccfc-2ea4-4981-b229-b7be5e06f56c",
   "metadata": {},
   "outputs": [
    {
     "name": "stdout",
     "output_type": "stream",
     "text": [
      "1\n",
      "2\n",
      "3\n"
     ]
    }
   ],
   "source": [
    "# Demonstrating else statement in while loop\n",
    "num = 0\n",
    "\n",
    "while num < 10:\n",
    "    num = num + 1\n",
    "    if num == 4:\n",
    "        break\n",
    "    print(num)\n",
    "else:\n",
    "    print(\"the while loop has ended!\")"
   ]
  },
  {
   "cell_type": "code",
   "execution_count": 34,
   "id": "5b6fb104-0135-4b1d-8def-5bed5d36bda0",
   "metadata": {},
   "outputs": [
    {
     "name": "stdout",
     "output_type": "stream",
     "text": [
      "1\n",
      "2\n",
      "3\n",
      "4\n",
      "5\n",
      "6\n",
      "7\n",
      "8\n",
      "9\n",
      "10\n"
     ]
    }
   ],
   "source": [
    "# Demonstrate unending loop\n",
    "num = 1\n",
    "\n",
    "while True:\n",
    "    if num > 10:\n",
    "        break\n",
    "    print(num)\n",
    "    num = num + 1"
   ]
  },
  {
   "cell_type": "code",
   "execution_count": null,
   "id": "01290a96-c039-4784-b57d-92a7388ce2c4",
   "metadata": {},
   "outputs": [],
   "source": []
  }
 ],
 "metadata": {
  "kernelspec": {
   "display_name": "Python 3 (ipykernel)",
   "language": "python",
   "name": "python3"
  },
  "language_info": {
   "codemirror_mode": {
    "name": "ipython",
    "version": 3
   },
   "file_extension": ".py",
   "mimetype": "text/x-python",
   "name": "python",
   "nbconvert_exporter": "python",
   "pygments_lexer": "ipython3",
   "version": "3.12.0"
  }
 },
 "nbformat": 4,
 "nbformat_minor": 5
}
