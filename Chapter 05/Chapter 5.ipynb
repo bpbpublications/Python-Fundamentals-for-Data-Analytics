{
 "cells": [
  {
   "cell_type": "markdown",
   "id": "f4950814-0c8c-4b08-bc84-13cc5cef1732",
   "metadata": {},
   "source": [
    "# Chapter 5 \n",
    "# CONDITIONAL BRANCHING\n",
    "### Conditional statements"
   ]
  },
  {
   "cell_type": "code",
   "execution_count": 1,
   "id": "6749e422-5e63-4777-9474-40e0c22d214b",
   "metadata": {},
   "outputs": [],
   "source": [
    "x = 2\n",
    "y = 4"
   ]
  },
  {
   "cell_type": "code",
   "execution_count": 2,
   "id": "0e4d8efb-2892-4692-af44-84f4a0e84c94",
   "metadata": {},
   "outputs": [
    {
     "name": "stdout",
     "output_type": "stream",
     "text": [
      "yes\n"
     ]
    }
   ],
   "source": [
    "if x < y:                # True\n",
    "    print('yes')"
   ]
  },
  {
   "cell_type": "code",
   "execution_count": 3,
   "id": "caca3251-d523-439f-a6de-d47a175ce0f1",
   "metadata": {},
   "outputs": [],
   "source": [
    "if y < x:                # False\n",
    "    print('yes')"
   ]
  },
  {
   "cell_type": "code",
   "execution_count": 4,
   "id": "e981a82d-1eee-43af-b182-5f29f7ae247f",
   "metadata": {},
   "outputs": [
    {
     "name": "stdout",
     "output_type": "stream",
     "text": [
      "yes\n"
     ]
    }
   ],
   "source": [
    "if x:                    # False\n",
    "    print('yes')"
   ]
  },
  {
   "cell_type": "code",
   "execution_count": 5,
   "id": "696d1b5d-2604-41b3-b8f9-61ef5fd63920",
   "metadata": {},
   "outputs": [
    {
     "name": "stdout",
     "output_type": "stream",
     "text": [
      "yes\n"
     ]
    }
   ],
   "source": [
    "if y:                    # True\n",
    "    print('yes')"
   ]
  },
  {
   "cell_type": "code",
   "execution_count": 6,
   "id": "9c518296-ad65-479f-b437-a2ecbcc10a30",
   "metadata": {},
   "outputs": [
    {
     "name": "stdout",
     "output_type": "stream",
     "text": [
      "yes\n"
     ]
    }
   ],
   "source": [
    "if x or y:               # True\n",
    "    print('yes')"
   ]
  },
  {
   "cell_type": "code",
   "execution_count": 7,
   "id": "14f8fd64-fa84-443a-99b9-6a31c64290c0",
   "metadata": {},
   "outputs": [
    {
     "name": "stdout",
     "output_type": "stream",
     "text": [
      "yes\n"
     ]
    }
   ],
   "source": [
    "if x and y:              # False\n",
    "    print('yes')"
   ]
  },
  {
   "cell_type": "code",
   "execution_count": 8,
   "id": "3de2ea63-133b-4445-98f1-aab8c83902f4",
   "metadata": {},
   "outputs": [
    {
     "name": "stdout",
     "output_type": "stream",
     "text": [
      "yes\n"
     ]
    }
   ],
   "source": [
    "if 'put' in 'computer':   # True\n",
    "    print('yes')"
   ]
  },
  {
   "cell_type": "code",
   "execution_count": 9,
   "id": "9bb3420a-c5b5-43f2-9cf7-cb9470e865d0",
   "metadata": {},
   "outputs": [],
   "source": [
    "if 'zen' in ['ten', 'twenty', 'thirty']:      # False\n",
    "    print('yes')"
   ]
  },
  {
   "cell_type": "markdown",
   "id": "c13537ce-bdcb-4564-b540-17f33525d029",
   "metadata": {},
   "source": [
    "### Indentation"
   ]
  },
  {
   "cell_type": "code",
   "execution_count": 10,
   "id": "a964d565-038a-4445-a4c6-8c4dc41030fc",
   "metadata": {},
   "outputs": [
    {
     "name": "stdout",
     "output_type": "stream",
     "text": [
      "This statement executes irrespective of the condition!\n"
     ]
    }
   ],
   "source": [
    "rain = 'yes'\n",
    "\n",
    "if rain == 'no':\n",
    "    print(\"Kids play in the park.\")\n",
    "    print(\"Elders walk in the garden.\")\n",
    "    print(\"Youngsters go to the gym.\")\n",
    "print(\"This statement executes irrespective of the condition!\")"
   ]
  },
  {
   "cell_type": "code",
   "execution_count": 11,
   "id": "ba724a02-1576-4736-91f3-f20bb5152b8d",
   "metadata": {},
   "outputs": [
    {
     "name": "stdout",
     "output_type": "stream",
     "text": [
      "Kids play in the park.\n",
      "Elders walk in the garden.\n",
      "Youngsters go to the gym.\n",
      "This statement executes irrespective of the condition!\n"
     ]
    }
   ],
   "source": [
    "rain = 'no'\n",
    "\n",
    "if rain == 'no':\n",
    "    print(\"Kids play in the park.\")\n",
    "    print(\"Elders walk in the garden.\")\n",
    "    print(\"Youngsters go to the gym.\")\n",
    "print(\"This statement executes irrespective of the condition!\")"
   ]
  },
  {
   "cell_type": "code",
   "execution_count": 12,
   "id": "c96ed9a1-f3f1-477b-a11c-15853fe68b7f",
   "metadata": {},
   "outputs": [
    {
     "name": "stdin",
     "output_type": "stream",
     "text": [
      "Enter the bill amount: 240\n",
      "Enter the delivery location: bengaluru\n"
     ]
    },
    {
     "name": "stdout",
     "output_type": "stream",
     "text": [
      "Delivery fee = Rs. 50\n",
      "Out of the if block!\n"
     ]
    }
   ],
   "source": [
    "bill_amount = int(input(\"Enter the bill amount:\"))\n",
    "location = input(\"Enter the delivery location:\")\n",
    "\n",
    "location = location.upper()\n",
    "if location == 'BENGALURU':\n",
    "    if bill_amount > 250:\n",
    "        print(\"Free Delivery!\")\n",
    "    if bill_amount < 250:\n",
    "        print(\"Delivery fee = Rs. 50\")\n",
    "print(\"Out of the if block!\")"
   ]
  },
  {
   "cell_type": "code",
   "execution_count": 13,
   "id": "45095368-8141-46d1-90a4-feaeb622d1f0",
   "metadata": {},
   "outputs": [
    {
     "name": "stdout",
     "output_type": "stream",
     "text": [
      "Delivery fee = Rs. 50\n"
     ]
    }
   ],
   "source": [
    "bill_amount = 150\n",
    "\n",
    "if bill_amount > 250:\n",
    "    print(\"Free Delivery!\")\n",
    "else:\n",
    "    print(\"Delivery fee = Rs. 50\")"
   ]
  },
  {
   "cell_type": "code",
   "execution_count": 14,
   "id": "317c9cbe-83be-4672-8d45-b19a27e587a2",
   "metadata": {},
   "outputs": [
    {
     "name": "stdout",
     "output_type": "stream",
     "text": [
      "My favourite flower is Rose.\n"
     ]
    }
   ],
   "source": [
    "flower = 'Rose'\n",
    "\n",
    "if flower == 'Rose':\n",
    "    print('My favourite flower is Rose.')\n",
    "elif flower == 'Lily':\n",
    "    print('My favourite flower is Lily.')\n",
    "elif flower == 'Lotus':\n",
    "    print('My favourite flower is Lotus.')\n",
    "elif flower == 'Jasmine':\n",
    "    print('My favourite flower is Jasmine.')\n",
    "else:\n",
    "    print('I think I like all the flowers!')"
   ]
  },
  {
   "cell_type": "code",
   "execution_count": 15,
   "id": "55045638-c196-4a29-a7cd-d7fde6694f0f",
   "metadata": {},
   "outputs": [
    {
     "name": "stdout",
     "output_type": "stream",
     "text": [
      "My favourite flower is Rose.\n"
     ]
    }
   ],
   "source": [
    "flower = 'Rose'\n",
    "\n",
    "if flower == 'Rose':\n",
    "    print('My favourite flower is Rose.')\n",
    "elif flower == 'Lily':\n",
    "    print('My favourite flower is Lily.')\n",
    "elif flower == 'Rose':\n",
    "    print('My favourite flower is Rose again!')\n",
    "elif flower == 'Jasmine':\n",
    "    print('My favourite flower is Jasmine.')\n",
    "else:\n",
    "    print('I think I like all the flowers!')"
   ]
  },
  {
   "cell_type": "code",
   "execution_count": 16,
   "id": "fa03fec3-b2d6-4598-a7e4-2df5bb89563d",
   "metadata": {},
   "outputs": [
    {
     "name": "stdout",
     "output_type": "stream",
     "text": [
      "Rose\n",
      "Lily\n",
      "Lotus\n",
      "Jasmine\n"
     ]
    }
   ],
   "source": [
    "type = 'flowers'\n",
    "\n",
    "if type == 'birds': print(\"Parrot\"); print(\"Peacock\"); print(\"Pegion\"); print(\"Eagle\")\n",
    "elif type == 'flowers': print(\"Rose\"); print(\"Lily\"); print(\"Lotus\"); print(\"Jasmine\")\n",
    "elif type == 'animals': print(\"Rabbit\"); print(\"Tiger\"); print(\"Lion\"); print(\"Elephant\")\n",
    "else: print(\"The selected type is invalid!\"); print(\"Select anyone among birds, flowers or animals\")"
   ]
  },
  {
   "cell_type": "code",
   "execution_count": 17,
   "id": "bbc2222d-3e41-4ae8-a60f-bf9d1adb3636",
   "metadata": {},
   "outputs": [
    {
     "name": "stdout",
     "output_type": "stream",
     "text": [
      "Rose\n",
      "Lily\n",
      "Lotus\n",
      "Jasmine\n"
     ]
    }
   ],
   "source": [
    "type = 'flowers'\n",
    "\n",
    "if type == 'birds': \n",
    "    print(\"Parrot\") \n",
    "    print(\"Peacock\") \n",
    "    print(\"Pegion\")\n",
    "    print(\"Eagle\")\n",
    "elif type == 'flowers': \n",
    "    print(\"Rose\")\n",
    "    print(\"Lily\")\n",
    "    print(\"Lotus\")\n",
    "    print(\"Jasmine\")\n",
    "elif type == 'animals': \n",
    "    print(\"Rabbit\")\n",
    "    print(\"Tiger\")\n",
    "    print(\"Lion\")\n",
    "    print(\"Elephant\")\n",
    "else: \n",
    "    print(\"The selected type is invalid!\")\n",
    "    print(\"Select anyone among birds, flowers or animals\")"
   ]
  },
  {
   "cell_type": "code",
   "execution_count": 18,
   "id": "97dcb01c-f551-42ea-b040-82f9994233c5",
   "metadata": {},
   "outputs": [
    {
     "name": "stdout",
     "output_type": "stream",
     "text": [
      "Kids play in park\n",
      "Kids play indoor\n"
     ]
    }
   ],
   "source": [
    "rain = False\n",
    "print(\"Kids play\", 'in park' if not rain else 'indoor')\n",
    "\n",
    "rain = True\n",
    "print(\"Kids play\", 'in park' if not rain else 'indoor')"
   ]
  },
  {
   "cell_type": "code",
   "execution_count": 19,
   "id": "ba292e4c-85cc-4d9f-8a46-40bca78b41bd",
   "metadata": {},
   "outputs": [
    {
     "name": "stdout",
     "output_type": "stream",
     "text": [
      "10\n"
     ]
    }
   ],
   "source": [
    "num1 = 10\n",
    "num2 = 8\n",
    "\n",
    "# conditional expression\n",
    "larger = num1 if num1 > num2 else num2\n",
    "\n",
    "print(larger)"
   ]
  },
  {
   "cell_type": "code",
   "execution_count": 20,
   "id": "02bc0b11-71e8-46fc-988f-7a45b7069066",
   "metadata": {},
   "outputs": [
    {
     "name": "stdout",
     "output_type": "stream",
     "text": [
      "13\n"
     ]
    }
   ],
   "source": [
    "num1 = num2 = 10\n",
    "\n",
    "new_val = 1 + (num1 if num1 > num2 else num2) + 2\n",
    "print(new_val)"
   ]
  },
  {
   "cell_type": "code",
   "execution_count": 21,
   "id": "66fd55f2-4424-4a3a-b970-4ea7b692913f",
   "metadata": {},
   "outputs": [
    {
     "name": "stdout",
     "output_type": "stream",
     "text": [
      "animal\n"
     ]
    }
   ],
   "source": [
    "symbol = 'tiger'\n",
    "\n",
    "symbol_type = ('flower' if (symbol == 'rose')\n",
    "              else 'tree' if (symbol == 'banyan')\n",
    "              else 'animal' if (symbol == 'tiger')\n",
    "               else 'fruit' if (symbol == 'mango')\n",
    "               else 'not a national symbol!' )\n",
    "print(symbol_type)"
   ]
  },
  {
   "cell_type": "code",
   "execution_count": 22,
   "id": "df9c7b0f-022c-42a2-90f1-f37f23f41d11",
   "metadata": {},
   "outputs": [
    {
     "ename": "IndentationError",
     "evalue": "expected an indented block after 'if' statement on line 2 (3866140462.py, line 4)",
     "output_type": "error",
     "traceback": [
      "\u001b[1;36m  Cell \u001b[1;32mIn[22], line 4\u001b[1;36m\u001b[0m\n\u001b[1;33m    print(val)\u001b[0m\n\u001b[1;37m    ^\u001b[0m\n\u001b[1;31mIndentationError\u001b[0m\u001b[1;31m:\u001b[0m expected an indented block after 'if' statement on line 2\n"
     ]
    }
   ],
   "source": [
    "val = True\n",
    "if True:\n",
    "\n",
    "print(val)"
   ]
  },
  {
   "cell_type": "code",
   "execution_count": 23,
   "id": "e2c956bf-6d2f-47e8-9a4f-a7f8293eff9d",
   "metadata": {},
   "outputs": [
    {
     "name": "stdout",
     "output_type": "stream",
     "text": [
      "True\n"
     ]
    }
   ],
   "source": [
    "val = True\n",
    "if True:\n",
    "    pass\n",
    "\n",
    "print(val)"
   ]
  },
  {
   "cell_type": "code",
   "execution_count": 24,
   "id": "87333a7b-94fb-4e17-adf2-84081d2b6cbf",
   "metadata": {},
   "outputs": [
    {
     "name": "stdout",
     "output_type": "stream",
     "text": [
      "8\n"
     ]
    }
   ],
   "source": [
    "num1 = 8\n",
    "num2 = 4\n",
    "num3 = 6\n",
    "\n",
    "if (num1 > num2) and (num1 > num3):\n",
    "    greatest = num1\n",
    "elif (num2 > num1) and (num2 > num3):\n",
    "    greatest = num2\n",
    "else: \n",
    "    greatest = num3\n",
    "\n",
    "print(greatest)"
   ]
  },
  {
   "cell_type": "code",
   "execution_count": 25,
   "id": "27657098-52e6-493a-9cc2-1cfa21ef60a6",
   "metadata": {},
   "outputs": [
    {
     "name": "stdout",
     "output_type": "stream",
     "text": [
      "Its week day. Go to work.\n"
     ]
    }
   ],
   "source": [
    "today = 'Wednesday'\n",
    "\n",
    "if today == 'Saturday' or today == 'Sunday':\n",
    "    print('Its weekend. Stay home.')\n",
    "else:\n",
    "    print('Its week day. Go to work.')"
   ]
  },
  {
   "cell_type": "code",
   "execution_count": null,
   "id": "ed56a874-3cc5-443f-84f3-4fb9b97308cd",
   "metadata": {},
   "outputs": [],
   "source": []
  }
 ],
 "metadata": {
  "kernelspec": {
   "display_name": "Python 3 (ipykernel)",
   "language": "python",
   "name": "python3"
  },
  "language_info": {
   "codemirror_mode": {
    "name": "ipython",
    "version": 3
   },
   "file_extension": ".py",
   "mimetype": "text/x-python",
   "name": "python",
   "nbconvert_exporter": "python",
   "pygments_lexer": "ipython3",
   "version": "3.12.0"
  }
 },
 "nbformat": 4,
 "nbformat_minor": 5
}
