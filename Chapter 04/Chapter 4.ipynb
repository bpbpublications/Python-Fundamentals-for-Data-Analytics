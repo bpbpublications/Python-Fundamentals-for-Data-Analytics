{
 "cells": [
  {
   "cell_type": "markdown",
   "id": "2c4aed66-8d81-40fc-8155-2d274811c04f",
   "metadata": {},
   "source": [
    "# Chapter 4\n",
    "#### Collection Types"
   ]
  },
  {
   "cell_type": "code",
   "execution_count": 1,
   "id": "067d5bce-056a-4bbe-9658-06db2ee54684",
   "metadata": {},
   "outputs": [
    {
     "name": "stdout",
     "output_type": "stream",
     "text": [
      "<class 'int'>\n",
      "<class 'float'>\n",
      "<class 'complex'>\n"
     ]
    }
   ],
   "source": [
    "# NUMERIC TYPES\n",
    "num1 = 8     # integer variable\n",
    "num2 = 4.2   # floating-point variable\n",
    "num3 = 6j    # complex numeric variable\n",
    "print(type(num1))\n",
    "print(type(num2))\n",
    "print(type(num3))"
   ]
  },
  {
   "cell_type": "code",
   "execution_count": 2,
   "id": "18184948-8b96-4d92-93ec-b077ac94513f",
   "metadata": {},
   "outputs": [
    {
     "name": "stdout",
     "output_type": "stream",
     "text": [
      "<class 'int'>\n",
      "<class 'int'>\n",
      "<class 'int'>\n"
     ]
    }
   ],
   "source": [
    "# INTEGER TYPE\n",
    "num1 = 8\n",
    "num2 = 1234567890987654321\n",
    "num3 = -12345678\n",
    "print(type(num1))\n",
    "print(type(num2))\n",
    "print(type(num3))"
   ]
  },
  {
   "cell_type": "code",
   "execution_count": 3,
   "id": "057cc157-48d4-4abd-87e4-ea812daf8519",
   "metadata": {},
   "outputs": [
    {
     "name": "stdout",
     "output_type": "stream",
     "text": [
      "<class 'float'>\n",
      "<class 'float'>\n",
      "<class 'float'>\n"
     ]
    }
   ],
   "source": [
    "# FLOAT TYPE\n",
    "num1 = 4.2\n",
    "num2 = 2E8\n",
    "num3 = -84.4e100\n",
    "print(type(num1))\n",
    "print(type(num2))\n",
    "print(type(num3))"
   ]
  },
  {
   "cell_type": "code",
   "execution_count": 4,
   "id": "28bcb8e1-f24a-4545-8aa0-d561cc6b41be",
   "metadata": {},
   "outputs": [
    {
     "name": "stdout",
     "output_type": "stream",
     "text": [
      "<class 'complex'>\n",
      "<class 'complex'>\n",
      "<class 'complex'>\n"
     ]
    }
   ],
   "source": [
    "# COMPLEX TYPE\n",
    "num1 = 4 + 2j\n",
    "num2 = 9j\n",
    "num3 = -9j\n",
    "print(type(num1))\n",
    "print(type(num2))\n",
    "print(type(num3))"
   ]
  },
  {
   "cell_type": "code",
   "execution_count": 5,
   "id": "0401643a-e625-4ce5-8cc8-ffde35167a3e",
   "metadata": {},
   "outputs": [
    {
     "name": "stdout",
     "output_type": "stream",
     "text": [
      "8.0\n"
     ]
    },
    {
     "data": {
      "text/plain": [
       "float"
      ]
     },
     "execution_count": 5,
     "metadata": {},
     "output_type": "execute_result"
    }
   ],
   "source": [
    "# CONVERTING INTEGER TO FLOAT\n",
    "num1 = 8\n",
    "a = float(num1)\n",
    "print(a)\n",
    "type(a)"
   ]
  },
  {
   "cell_type": "code",
   "execution_count": 6,
   "id": "e3a3213a-d2b5-403c-8749-45cdb6c52aed",
   "metadata": {},
   "outputs": [
    {
     "name": "stdout",
     "output_type": "stream",
     "text": [
      "2\n"
     ]
    },
    {
     "data": {
      "text/plain": [
       "int"
      ]
     },
     "execution_count": 6,
     "metadata": {},
     "output_type": "execute_result"
    }
   ],
   "source": [
    "# CONVERTING FLOAT TO INTEGER\n",
    "num2 = 2.8\n",
    "b = int(num2)\n",
    "print(b)\n",
    "type(b)"
   ]
  },
  {
   "cell_type": "code",
   "execution_count": 7,
   "id": "3a0d6406-d62c-4032-8c4d-639d64b3f634",
   "metadata": {},
   "outputs": [
    {
     "name": "stdout",
     "output_type": "stream",
     "text": [
      "(2+0j)\n"
     ]
    },
    {
     "data": {
      "text/plain": [
       "complex"
      ]
     },
     "execution_count": 7,
     "metadata": {},
     "output_type": "execute_result"
    }
   ],
   "source": [
    "# CONVERTING INTEGER TO COMPLEX\n",
    "num3 = 2\n",
    "c = complex(num3)\n",
    "print(c)\n",
    "type(c)"
   ]
  },
  {
   "cell_type": "code",
   "execution_count": 8,
   "id": "c5afe92c-75c8-4622-94c1-82e30978f15f",
   "metadata": {},
   "outputs": [
    {
     "name": "stdout",
     "output_type": "stream",
     "text": [
      "num1 =  3\n",
      "num2 =  8\n",
      "num3 =  10\n"
     ]
    }
   ],
   "source": [
    "# RANDOM NUMBER GENERATION\n",
    "import random\n",
    "num1 = random.randrange(10)\n",
    "num2 = random.randrange(1, 11)\n",
    "num3 = random.randrange(2, 20, 2)\n",
    "print(\"num1 = \", num1)\n",
    "print(\"num2 = \", num2)\n",
    "print(\"num3 = \", num3)"
   ]
  },
  {
   "cell_type": "code",
   "execution_count": 9,
   "id": "f29626c9-04a5-41d8-a679-7fe76f95e17b",
   "metadata": {},
   "outputs": [
    {
     "name": "stdout",
     "output_type": "stream",
     "text": [
      "num1 =  2\n",
      "num2 =  2\n",
      "num3 =  4\n"
     ]
    }
   ],
   "source": [
    "# CREATING INTEGER VARIABLE WITH INT METHOD\n",
    "num1 = int(2)\n",
    "num2 = int(2.8)\n",
    "num3 = int(\"4\")\n",
    "print(\"num1 = \", num1)\n",
    "print(\"num2 = \", num2)\n",
    "print(\"num3 = \", num3)"
   ]
  },
  {
   "cell_type": "code",
   "execution_count": 10,
   "id": "4078bea2-d57f-4b42-a378-5567a1c9a994",
   "metadata": {},
   "outputs": [
    {
     "name": "stdout",
     "output_type": "stream",
     "text": [
      "num1 =  2.0\n",
      "num2 =  2.8\n",
      "num3 =  4.0\n"
     ]
    }
   ],
   "source": [
    "# CREATING FLOAT VARIABLE WITH FLOAT METHOD\n",
    "num1 = float(2)\n",
    "num2 = float(2.8)\n",
    "num3 = float(\"4\")\n",
    "print(\"num1 = \", num1)\n",
    "print(\"num2 = \", num2)\n",
    "print(\"num3 = \", num3)"
   ]
  },
  {
   "cell_type": "code",
   "execution_count": 11,
   "id": "d5f78685-c638-44e0-a14e-f2665e2a739a",
   "metadata": {},
   "outputs": [
    {
     "name": "stdout",
     "output_type": "stream",
     "text": [
      "Singleline string =  Python programming is easy!\n",
      "Multiline string =  Python program is easy,\n",
      "but practice is the key!\n",
      "Practice makes you more confident.\n"
     ]
    }
   ],
   "source": [
    "# SINGLE LINE AND MULTILINE STRINGS\n",
    "sline = \"Python programming is easy!\"\n",
    "mline = \"\"\"Python program is easy,\n",
    "but practice is the key!\n",
    "Practice makes you more confident.\"\"\"\n",
    "print(\"Singleline string = \", sline)\n",
    "print(\"Multiline string = \", mline)"
   ]
  },
  {
   "cell_type": "code",
   "execution_count": 12,
   "id": "3b3c3d09-d9e4-41a9-aec6-7fd6ac0b8a2a",
   "metadata": {},
   "outputs": [
    {
     "name": "stdout",
     "output_type": "stream",
     "text": [
      "Singleline string =  Python programming is easy!\n",
      "Multiline string =  Python program is easy,\n",
      "but practice is the key!\n",
      "Practice makes you more confident.\n"
     ]
    }
   ],
   "source": [
    "# SINGLE QUOTES CAN ALSO BE USED INSTEAD OF DOUBLE QUOTES\n",
    "sline = 'Python programming is easy!'\n",
    "mline = '''Python program is easy,\n",
    "but practice is the key!\n",
    "Practice makes you more confident.'''\n",
    "print(\"Singleline string = \", sline)\n",
    "print(\"Multiline string = \", mline)"
   ]
  },
  {
   "cell_type": "code",
   "execution_count": 13,
   "id": "84f8a61b-a03c-4890-8ac2-afd0f1a07fb1",
   "metadata": {},
   "outputs": [
    {
     "name": "stdout",
     "output_type": "stream",
     "text": [
      "str1 =  2\n",
      "str2 =  2.8\n",
      "str3 =  4\n"
     ]
    }
   ],
   "source": [
    "# CREATING STRING VARIABLE WITH STRING METHOD\n",
    "str1 = str(2)\n",
    "str2 = str(2.8)\n",
    "str3 = str(\"4\")\n",
    "print(\"str1 = \", str1)\n",
    "print(\"str2 = \", str2)\n",
    "print(\"str3 = \", str3)"
   ]
  },
  {
   "cell_type": "code",
   "execution_count": 14,
   "id": "56bf71d0-62de-4ad4-a899-f7a76326f051",
   "metadata": {},
   "outputs": [
    {
     "name": "stdout",
     "output_type": "stream",
     "text": [
      "First character =  P\n",
      "Second character =  y\n",
      "Fifth character =  o\n"
     ]
    }
   ],
   "source": [
    "# STRINGS ARE INDEXED\n",
    "str1 = 'Python programming is easy!'\n",
    "print(\"First character = \", str1[0])\n",
    "print(\"Second character = \", str1[1])\n",
    "print(\"Fifth character = \", str1[4])"
   ]
  },
  {
   "cell_type": "code",
   "execution_count": 15,
   "id": "2e2b5ff9-046a-4f96-a6e0-267a6276da12",
   "metadata": {},
   "outputs": [
    {
     "name": "stdout",
     "output_type": "stream",
     "text": [
      "6\n"
     ]
    }
   ],
   "source": [
    "# FINDING THE LENGTH OF A STRING\n",
    "str1 = 'Python'\n",
    "print(len(str1))"
   ]
  },
  {
   "cell_type": "code",
   "execution_count": 16,
   "id": "2e6230b6-933d-4d18-a72b-c9bcfb9c537f",
   "metadata": {},
   "outputs": [
    {
     "name": "stdout",
     "output_type": "stream",
     "text": [
      "thon\n"
     ]
    }
   ],
   "source": [
    "# SLICING A STRING\n",
    "str1 = 'Python is easy!'\n",
    "print(str1[2:6])"
   ]
  },
  {
   "cell_type": "code",
   "execution_count": 17,
   "id": "a8a51309-2226-405b-ac6b-94f5ad785346",
   "metadata": {},
   "outputs": [
    {
     "name": "stdout",
     "output_type": "stream",
     "text": [
      "Python\n"
     ]
    }
   ],
   "source": [
    "# CLICING FROM BEGINNING\n",
    "str1 = 'Python is easy!'\n",
    "print(str1[:6])"
   ]
  },
  {
   "cell_type": "code",
   "execution_count": 18,
   "id": "c8197e7f-21f5-4b4f-af03-e484cee1565d",
   "metadata": {},
   "outputs": [
    {
     "name": "stdout",
     "output_type": "stream",
     "text": [
      "easy!\n"
     ]
    }
   ],
   "source": [
    "# SLICING TILL END\n",
    "str1 = 'Python is easy!'\n",
    "print(str1[10:])"
   ]
  },
  {
   "cell_type": "code",
   "execution_count": 19,
   "id": "88469ba4-a681-4fe0-aa02-996d41eb0306",
   "metadata": {},
   "outputs": [
    {
     "name": "stdout",
     "output_type": "stream",
     "text": [
      "Python\n"
     ]
    }
   ],
   "source": [
    "# NEGATIVE INDEXING IN STRINGS\n",
    "str1 = 'Python is easy!'\n",
    "print(str1[-15:-9])"
   ]
  },
  {
   "cell_type": "code",
   "execution_count": 20,
   "id": "f3a5191d-765c-4acb-898b-dbeec3994337",
   "metadata": {},
   "outputs": [
    {
     "name": "stdout",
     "output_type": "stream",
     "text": [
      "PYTHON IS EASY!\n"
     ]
    }
   ],
   "source": [
    "# CONVERT STRING TO UPPERCASE\n",
    "str1 = 'Python is easy!'\n",
    "print(str1.upper())"
   ]
  },
  {
   "cell_type": "code",
   "execution_count": 21,
   "id": "d33cf261-700d-4350-a8d8-60c9d2ae6642",
   "metadata": {},
   "outputs": [
    {
     "name": "stdout",
     "output_type": "stream",
     "text": [
      "python is easy!\n"
     ]
    }
   ],
   "source": [
    "# CONVERT STRING TO LOWERCASE\n",
    "str1 = 'PYTHON IS EASY!'\n",
    "print(str1.lower())\n"
   ]
  },
  {
   "cell_type": "code",
   "execution_count": 22,
   "id": "fe09e536-21f5-4f78-bf6e-1bf18a8aaa98",
   "metadata": {},
   "outputs": [
    {
     "name": "stdout",
     "output_type": "stream",
     "text": [
      "Python   is   easy!\n"
     ]
    }
   ],
   "source": [
    "# REMOVE EXTRA WHITESPACES\n",
    "str1 = '  Python   is   easy!'\n",
    "print(str1.strip())"
   ]
  },
  {
   "cell_type": "code",
   "execution_count": 23,
   "id": "2cb12a98-aec8-42c6-a5aa-618250528ff1",
   "metadata": {},
   "outputs": [
    {
     "name": "stdout",
     "output_type": "stream",
     "text": [
      "Replaced string =  Rython\n",
      "Original string =  Python\n"
     ]
    }
   ],
   "source": [
    "# REPLACE OPERATION ON STRING\n",
    "str1 = 'Python'\n",
    "print(\"Replaced string = \", str1.replace(\"P\",\"R\"))\n",
    "print(\"Original string = \", str1)"
   ]
  },
  {
   "cell_type": "code",
   "execution_count": 24,
   "id": "d6d05c9c-150d-415d-b6ff-744a85ed224c",
   "metadata": {},
   "outputs": [
    {
     "name": "stdout",
     "output_type": "stream",
     "text": [
      "['Python', ' is', ' easy!']\n"
     ]
    }
   ],
   "source": [
    "# SPLIT OPERATION ON STRING\n",
    "str1 = 'Python, is, easy!'\n",
    "print(str1.split(\",\"))"
   ]
  },
  {
   "cell_type": "code",
   "execution_count": 25,
   "id": "b1da524a-3b44-43ef-8cc1-581e5b46e877",
   "metadata": {},
   "outputs": [
    {
     "name": "stdout",
     "output_type": "stream",
     "text": [
      "[76, 84, 67, 92, 83]\n"
     ]
    }
   ],
   "source": [
    "marks = [76, 84, 67, 92, 83]\n",
    "print(marks)"
   ]
  },
  {
   "cell_type": "code",
   "execution_count": 26,
   "id": "e2a50f0f-edf2-410e-a895-8204665e9f06",
   "metadata": {},
   "outputs": [
    {
     "name": "stdout",
     "output_type": "stream",
     "text": [
      "('RED', 'GREEN', 'BLUE', 'YELLOW')\n",
      "<class 'tuple'>\n"
     ]
    }
   ],
   "source": [
    "colors = ('RED', 'GREEN', 'BLUE', 'YELLOW')\n",
    "print(colors)\n",
    "print(type(colors))"
   ]
  },
  {
   "cell_type": "code",
   "execution_count": 27,
   "id": "ab332425-4a71-4d5b-8024-4216f10fbff3",
   "metadata": {},
   "outputs": [
    {
     "name": "stdout",
     "output_type": "stream",
     "text": [
      "<class 'str'>\n",
      "<class 'tuple'>\n"
     ]
    }
   ],
   "source": [
    "color1 = ('RED')\n",
    "print(type(color1))\n",
    "color2 = ('RED',)\n",
    "print(type(color2))"
   ]
  },
  {
   "cell_type": "code",
   "execution_count": 28,
   "id": "f0773325-318b-408f-8125-6a2f542cef83",
   "metadata": {},
   "outputs": [
    {
     "name": "stdout",
     "output_type": "stream",
     "text": [
      "<class 'tuple'>\n"
     ]
    }
   ],
   "source": [
    "flowers = 'Rose', 'Lily', 'Lotus', 'Jasmine'\n",
    "print(type(flowers))"
   ]
  },
  {
   "cell_type": "code",
   "execution_count": 29,
   "id": "30952f45-f969-44a1-9bde-e8aecfa3230a",
   "metadata": {},
   "outputs": [
    {
     "name": "stdout",
     "output_type": "stream",
     "text": [
      "<class 'set'>\n"
     ]
    }
   ],
   "source": [
    "vovels = {'a','e', 'i', 'o', 'u'}\n",
    "print(type(vovels))"
   ]
  },
  {
   "cell_type": "code",
   "execution_count": 30,
   "id": "939ae4b1-7a32-4f1e-83ee-6c9dad8df831",
   "metadata": {},
   "outputs": [
    {
     "name": "stdout",
     "output_type": "stream",
     "text": [
      "['Aman', 21, True, 'male', 75]\n",
      "['Aman', 21, True, 'male', 75, 'Bengaluru']\n"
     ]
    }
   ],
   "source": [
    "# STUDENT LIST\n",
    "student = ['Aman', 21, True, 'male', 75]\n",
    "print(student)\n",
    "\n",
    "# LIST SUPPORTS MODIFICATION OF OBJECTS / LISTS ARE MUTABLE\n",
    "student.append('Bengaluru')\n",
    "print(student)"
   ]
  },
  {
   "cell_type": "code",
   "execution_count": 31,
   "id": "e39f196e-b5b4-450f-8a2b-60c198b20e82",
   "metadata": {},
   "outputs": [
    {
     "name": "stdout",
     "output_type": "stream",
     "text": [
      "('Aman', 21, True, 'male', 75)\n"
     ]
    },
    {
     "ename": "AttributeError",
     "evalue": "'tuple' object has no attribute 'append'",
     "output_type": "error",
     "traceback": [
      "\u001b[1;31m---------------------------------------------------------------------------\u001b[0m",
      "\u001b[1;31mAttributeError\u001b[0m                            Traceback (most recent call last)",
      "Cell \u001b[1;32mIn[31], line 6\u001b[0m\n\u001b[0;32m      3\u001b[0m \u001b[38;5;28mprint\u001b[39m(student)\n\u001b[0;32m      5\u001b[0m \u001b[38;5;66;03m# TUPLES ARE IMMUTABLE AND THROWS ERROR WHEN WE TRY TO MODIFY\u001b[39;00m\n\u001b[1;32m----> 6\u001b[0m \u001b[43mstudent\u001b[49m\u001b[38;5;241;43m.\u001b[39;49m\u001b[43mappend\u001b[49m(\u001b[38;5;124m'\u001b[39m\u001b[38;5;124mBengaluru\u001b[39m\u001b[38;5;124m'\u001b[39m)\n",
      "\u001b[1;31mAttributeError\u001b[0m: 'tuple' object has no attribute 'append'"
     ]
    }
   ],
   "source": [
    "# STUDENT TUPLE\n",
    "student = ('Aman', 21, True, 'male', 75)\n",
    "print(student)\n",
    "\n",
    "# TUPLES ARE IMMUTABLE AND THROWS ERROR WHEN WE TRY TO MODIFY\n",
    "student.append('Bengaluru')"
   ]
  },
  {
   "cell_type": "code",
   "execution_count": 32,
   "id": "692baeca-c7e7-4b45-9dfb-eaf016be4aa2",
   "metadata": {},
   "outputs": [
    {
     "name": "stdout",
     "output_type": "stream",
     "text": [
      "{'u', 'o', 'a', 'e', 'i'}\n"
     ]
    }
   ],
   "source": [
    "# SET EXAMPLE\n",
    "vovels = {'a', 'e', 'i', 'o', 'a', 'u', 'o'}\n",
    "print(vovels) # set removes duplicate values"
   ]
  },
  {
   "cell_type": "code",
   "execution_count": 33,
   "id": "dede6205-308b-42a4-8066-405fb22d5e54",
   "metadata": {},
   "outputs": [
    {
     "name": "stdout",
     "output_type": "stream",
     "text": [
      "{'Company': 'Honda', 'Model': 'City', 'Year': '2014', 'Colors': ['red', 'white', 'silver']}\n"
     ]
    }
   ],
   "source": [
    "# CREATING A DICTIONARY\n",
    "car = {'Company': 'Honda', 'Model': 'City', 'Year': '2014', 'Colors': ['red', 'white', 'silver']}\n",
    "print(car)"
   ]
  },
  {
   "cell_type": "code",
   "execution_count": 34,
   "id": "f7e1d288-4b41-4080-b6a9-3f6f7c140df0",
   "metadata": {},
   "outputs": [
    {
     "name": "stdout",
     "output_type": "stream",
     "text": [
      "color =  ['red', 'green', 'blue', 'yellow']\n",
      "color[0] =  red\n",
      "color[1] =  green\n",
      "color[2] =  blue\n",
      "color[3] =  yellow\n",
      "color[-1] =  yellow\n",
      "color[-2]=  blue\n",
      "color[-3] =  green\n",
      "color[-4] =  red\n"
     ]
    }
   ],
   "source": [
    "# Create a list\n",
    "color = ['red', 'green', 'blue', 'yellow']\n",
    "\n",
    "# Display the complete list \n",
    "print(\"color = \", color)\n",
    "\n",
    "# Display each element using its index \n",
    "print(\"color[0] = \", color[0]) \n",
    "print(\"color[1] = \", color[1])\n",
    "print(\"color[2] = \", color [2])\n",
    "print(\"color[3] = \", color[3])\n",
    "\n",
    "# Display elements using negative indexing \n",
    "print(\"color[-1] = \", color[-1])\n",
    "print(\"color[-2]= \", color[-2])\n",
    "print(\"color[-3] = \", color[-3]) \n",
    "print(\"color[-4] = \", color[-4])"
   ]
  },
  {
   "cell_type": "code",
   "execution_count": 35,
   "id": "d632cddc-5cae-4549-a999-fcad1859de15",
   "metadata": {},
   "outputs": [
    {
     "ename": "IndexError",
     "evalue": "list index out of range",
     "output_type": "error",
     "traceback": [
      "\u001b[1;31m---------------------------------------------------------------------------\u001b[0m",
      "\u001b[1;31mIndexError\u001b[0m                                Traceback (most recent call last)",
      "Cell \u001b[1;32mIn[35], line 2\u001b[0m\n\u001b[0;32m      1\u001b[0m \u001b[38;5;66;03m# Any value other than actual index value will result in \"out of bound exception\" \u001b[39;00m\n\u001b[1;32m----> 2\u001b[0m \u001b[38;5;28mprint\u001b[39m(\u001b[38;5;124m\"\u001b[39m\u001b[38;5;124mcolor[4] = \u001b[39m\u001b[38;5;124m\"\u001b[39m, \u001b[43mcolor\u001b[49m\u001b[43m[\u001b[49m\u001b[38;5;241;43m4\u001b[39;49m\u001b[43m]\u001b[49m)\n",
      "\u001b[1;31mIndexError\u001b[0m: list index out of range"
     ]
    }
   ],
   "source": [
    "# Any value other than actual index value will result in \"out of bound exception\" \n",
    "print(\"color[4] = \", color[4])"
   ]
  },
  {
   "cell_type": "code",
   "execution_count": 36,
   "id": "409fdc25-18dd-4071-bd38-c731afb84e3b",
   "metadata": {},
   "outputs": [
    {
     "name": "stdout",
     "output_type": "stream",
     "text": [
      "color =  ['red', 'green', 'blue', 'yellow']\n",
      "\n",
      " After adding an element..\n",
      "color =  ['red', 'green', 'blue', 'yellow', 'orange']\n",
      "\n",
      " After removing an elenemt..\n",
      "color =  ['green', 'blue', 'yellow', 'orange']\n"
     ]
    }
   ],
   "source": [
    "# Create a list\n",
    "color = ['red', 'green', 'blue', 'yellow']\n",
    "\n",
    "# Display the complete list \n",
    "print(\"color = \", color)\n",
    "\n",
    "# Add an element to the list\n",
    "color.append('orange')\n",
    "\n",
    "# Display the complete list\n",
    "print(\"\\n After adding an element..\")\n",
    "print(\"color = \", color)\n",
    "\n",
    "# Remove an element from the list\n",
    "color.remove('red')\n",
    "\n",
    "# Display the complete list\n",
    "print(\"\\n After removing an elenemt..\")\n",
    "print(\"color = \", color)"
   ]
  },
  {
   "cell_type": "code",
   "execution_count": 37,
   "id": "966ed3ed-79e8-48f9-be8b-13a19b8dcce6",
   "metadata": {},
   "outputs": [
    {
     "name": "stdout",
     "output_type": "stream",
     "text": [
      "color =  ['red', 'green', 'blue', 'yellow', 'green', 'blue']\n"
     ]
    }
   ],
   "source": [
    "# Create a list\n",
    "color = ['red', 'green', 'blue', 'yellow', 'green', 'blue']\n",
    "\n",
    "# Display the complete list\n",
    "print(\"color = \", color)"
   ]
  },
  {
   "cell_type": "code",
   "execution_count": 38,
   "id": "ea955d3b-e723-4bc9-84f8-967985a2ecef",
   "metadata": {},
   "outputs": [
    {
     "name": "stdout",
     "output_type": "stream",
     "text": [
      "color =  ['red', 'green', 'blue', 'yellow']\n",
      "length =  4\n"
     ]
    }
   ],
   "source": [
    "# Create a list\n",
    "color = ['red', 'green', 'blue', 'yellow']\n",
    "\n",
    "# Display the complete list\n",
    "print(\"color = \", color)\n",
    "print(\"length = \", len(color))"
   ]
  },
  {
   "cell_type": "code",
   "execution_count": 39,
   "id": "090530c7-950b-4047-b12b-01b1e6fbed0d",
   "metadata": {},
   "outputs": [
    {
     "name": "stdout",
     "output_type": "stream",
     "text": [
      "color =  ['red', 'green', 'blue', 'yellow']\n",
      "numbers =  [23, 43, 54, 67, 84]\n",
      "bool_values =  [True, False, True, True]\n"
     ]
    }
   ],
   "source": [
    "# Create a list\n",
    "color = ['red', 'green', 'blue', 'yellow']\n",
    "numbers = [23, 43, 54, 67, 84]\n",
    "bool_values = [True, False, True, True]\n",
    "\n",
    "# Display the values\n",
    "print(\"color = \", color)\n",
    "print(\"numbers = \", numbers)\n",
    "print(\"bool_values = \", bool_values)"
   ]
  },
  {
   "cell_type": "code",
   "execution_count": 40,
   "id": "eeec68bb-e9c0-4458-a68d-fae438b7d309",
   "metadata": {},
   "outputs": [
    {
     "name": "stdout",
     "output_type": "stream",
     "text": [
      "color =  ['red', 'green', 'blue', 'yellow']\n"
     ]
    }
   ],
   "source": [
    "# Create a list\n",
    "color = ['red', 'green', 'blue', 'yellow']\n",
    "\n",
    "# Display the complete list\n",
    "print(\"color = \", color)"
   ]
  },
  {
   "cell_type": "code",
   "execution_count": 41,
   "id": "44d9b1a4-d5e3-4b89-9d6e-9a9c8b0086e3",
   "metadata": {},
   "outputs": [
    {
     "name": "stdout",
     "output_type": "stream",
     "text": [
      "color =  ['blue', 'yellow', 'pink', 'purple']\n",
      "color =  ['yellow', 'pink', 'purple', 'grey', 'black']\n",
      "color =  ['red', 'green', 'blue', 'yellow', 'pink']\n"
     ]
    }
   ],
   "source": [
    "# Create a list\n",
    "color = list(('red', 'green', 'blue', 'yellow', 'pink', 'purple', 'grey', 'black'))\n",
    "\n",
    "# Display third to sixth elements\n",
    "print(\"color = \", color[2:6])\n",
    "\n",
    "# Display all the elements from fourth\n",
    "print(\"color = \", color[3:])\n",
    "\n",
    "# Display all the elements till fifth\n",
    "print(\"color = \", color[:5])"
   ]
  },
  {
   "cell_type": "code",
   "execution_count": 42,
   "id": "f2790ee5-17c7-4b9f-b7ee-3c90762609d4",
   "metadata": {},
   "outputs": [
    {
     "name": "stdout",
     "output_type": "stream",
     "text": [
      "\n",
      "Original list.. \n",
      "color =  ['red', 'green', 'blue', 'yellow']\n",
      "\n",
      "After replacing.. \n",
      "color =  ['red', 'orange', 'blue', 'yellow']\n"
     ]
    }
   ],
   "source": [
    "# Create a list\n",
    "color = list(('red', 'green', 'blue', 'yellow'))\n",
    "\n",
    "# Display the list\n",
    "print(\"\\nOriginal list.. \\ncolor = \", color)\n",
    "\n",
    "# Replace an item\n",
    "color[1] = 'orange'\n",
    "\n",
    "# Display the list after replacing an item\n",
    "print(\"\\nAfter replacing.. \\ncolor = \", color)"
   ]
  },
  {
   "cell_type": "code",
   "execution_count": 43,
   "id": "616cd146-dc0c-452e-8166-caa61807e537",
   "metadata": {},
   "outputs": [
    {
     "name": "stdout",
     "output_type": "stream",
     "text": [
      "\n",
      "Original list.. \n",
      "color =  ['red', 'green', 'blue', 'yellow']\n",
      "\n",
      "After inserting.. \n",
      "color =  ['red', 'green', 'orange', 'blue', 'yellow']\n"
     ]
    }
   ],
   "source": [
    "# Create a list\n",
    "color = list(('red', 'green', 'blue', 'yellow'))\n",
    "\n",
    "# Display the list\n",
    "print(\"\\nOriginal list.. \\ncolor = \", color)\n",
    "\n",
    "# Insert an item\n",
    "color.insert(2, 'orange')\n",
    "\n",
    "# Display the list after inserting an item\n",
    "print(\"\\nAfter inserting.. \\ncolor = \", color)"
   ]
  },
  {
   "cell_type": "code",
   "execution_count": 44,
   "id": "88bee58d-dc07-40fd-8a09-5cd43216b155",
   "metadata": {},
   "outputs": [
    {
     "name": "stdout",
     "output_type": "stream",
     "text": [
      "\n",
      "Original list.. \n",
      "color =  ['red', 'green', 'blue', 'yellow']\n",
      "\n",
      "After appending.. \n",
      "color =  ['red', 'green', 'blue', 'yellow', 'orange']\n"
     ]
    }
   ],
   "source": [
    "# Create a list\n",
    "color = list(('red', 'green', 'blue', 'yellow'))\n",
    "\n",
    "# Display the list\n",
    "print(\"\\nOriginal list.. \\ncolor = \", color)\n",
    "\n",
    "# Append an item\n",
    "color.append('orange')\n",
    "\n",
    "# Display the list after appending an item\n",
    "print(\"\\nAfter appending.. \\ncolor = \", color)"
   ]
  },
  {
   "cell_type": "code",
   "execution_count": 45,
   "id": "79d64a44-3251-49e3-9e4b-dba62e6b995c",
   "metadata": {},
   "outputs": [
    {
     "name": "stdout",
     "output_type": "stream",
     "text": [
      "color1 =  ['red', 'green', 'blue', 'yellow']\n",
      "color2 =  ['black', 'brown', 'grey', 'pink']\n",
      "color1 =  ['red', 'green', 'blue', 'yellow', ['black', 'brown', 'grey', 'pink']]\n",
      "color2 =  ['black', 'brown', 'grey', 'pink']\n"
     ]
    }
   ],
   "source": [
    "# Create a list\n",
    "color1 = list(('red', 'green', 'blue', 'yellow'))\n",
    "color2 = list(('black', 'brown', 'grey', 'pink'))\n",
    "\n",
    "# Display the list\n",
    "print(\"color1 = \", color1)\n",
    "print(\"color2 = \", color2)\n",
    "\n",
    "# Append color2 to color1\n",
    "color1.append(color2)\n",
    "\n",
    "# Display the list after appending\n",
    "print(\"color1 = \", color1)\n",
    "print(\"color2 = \", color2)"
   ]
  },
  {
   "cell_type": "code",
   "execution_count": 46,
   "id": "9aed442c-5a87-4e73-88c0-5838ca7c3a1d",
   "metadata": {},
   "outputs": [
    {
     "name": "stdout",
     "output_type": "stream",
     "text": [
      "\n",
      "Original list.. \n",
      "color =  ['red', 'green', 'blue', 'yellow']\n",
      "\n",
      "After deleting blue.. \n",
      "color =  ['red', 'green', 'yellow']\n"
     ]
    }
   ],
   "source": [
    "# Create a list\n",
    "color = list(('red', 'green', 'blue', 'yellow'))\n",
    "\n",
    "# Display the list\n",
    "print(\"\\nOriginal list.. \\ncolor = \", color)\n",
    "\n",
    "# Delete an item\n",
    "color.remove('blue')\n",
    "\n",
    "# Display the list after deleting an item\n",
    "print(\"\\nAfter deleting blue.. \\ncolor = \", color)"
   ]
  },
  {
   "cell_type": "code",
   "execution_count": 47,
   "id": "3ef4eb7e-fb3d-436a-91dc-7801a1a1740e",
   "metadata": {},
   "outputs": [
    {
     "name": "stdout",
     "output_type": "stream",
     "text": [
      "\n",
      "Original list.. \n",
      "color =  ['red', 'green', 'blue', 'yellow']\n",
      "\n",
      "After calling color.clear().. \n",
      "color =  []\n"
     ]
    }
   ],
   "source": [
    "# Create a list\n",
    "color = list(('red', 'green', 'blue', 'yellow'))\n",
    "\n",
    "# Display the list\n",
    "print(\"\\nOriginal list.. \\ncolor = \", color)\n",
    "\n",
    "# Clear the list\n",
    "color.clear()\n",
    "\n",
    "# Display the list after clear()\n",
    "print(\"\\nAfter calling color.clear().. \\ncolor = \", color)"
   ]
  },
  {
   "cell_type": "code",
   "execution_count": 48,
   "id": "ed6f407e-61da-410d-8a4b-e447e84ab691",
   "metadata": {},
   "outputs": [
    {
     "name": "stdout",
     "output_type": "stream",
     "text": [
      "color =  ('red', 'green', 'blue', 'yellow')\n",
      "type =  <class 'tuple'>\n",
      "\n",
      "color[0] =  red\n",
      "color[1] =  green\n",
      "color[2] =  blue\n",
      "color[3] =  yellow\n",
      "\n",
      "color[-1] =  yellow\n",
      "color[-2] =  blue\n",
      "color[-3] =  green\n",
      "color[-4] =  red\n"
     ]
    }
   ],
   "source": [
    "# Create a tuple\n",
    "color = ('red', 'green', 'blue', 'yellow')\n",
    "\n",
    "# Display the complete tuple\n",
    "print(\"color = \", color)\n",
    "print(\"type = \", type(color))\n",
    "\n",
    "# Display each element using its index\n",
    "print(\"\\ncolor[0] = \", color[0])\n",
    "print(\"color[1] = \", color[1])\n",
    "print(\"color[2] = \", color[2])\n",
    "print(\"color[3] = \", color[3])\n",
    "\n",
    "# Display elements using negative indexing\n",
    "print(\"\\ncolor[-1] = \", color[-1])\n",
    "print(\"color[-2] = \", color[-2])\n",
    "print(\"color[-3] = \", color[-3])\n",
    "print(\"color[-4] = \", color[-4])"
   ]
  },
  {
   "cell_type": "code",
   "execution_count": 49,
   "id": "f642844f-0289-429e-badb-b3770c6fe975",
   "metadata": {},
   "outputs": [
    {
     "name": "stdout",
     "output_type": "stream",
     "text": [
      "color =  ('red', 'green', 'blue', 'yellow')\n",
      "type =  <class 'tuple'>\n"
     ]
    },
    {
     "ename": "AttributeError",
     "evalue": "'tuple' object has no attribute 'append'",
     "output_type": "error",
     "traceback": [
      "\u001b[1;31m---------------------------------------------------------------------------\u001b[0m",
      "\u001b[1;31mAttributeError\u001b[0m                            Traceback (most recent call last)",
      "Cell \u001b[1;32mIn[49], line 9\u001b[0m\n\u001b[0;32m      6\u001b[0m \u001b[38;5;28mprint\u001b[39m(\u001b[38;5;124m\"\u001b[39m\u001b[38;5;124mtype = \u001b[39m\u001b[38;5;124m\"\u001b[39m, \u001b[38;5;28mtype\u001b[39m(color))\n\u001b[0;32m      8\u001b[0m \u001b[38;5;66;03m# Trying to add an element to the tuple\u001b[39;00m\n\u001b[1;32m----> 9\u001b[0m \u001b[43mcolor\u001b[49m\u001b[38;5;241;43m.\u001b[39;49m\u001b[43mappend\u001b[49m(\u001b[38;5;124m'\u001b[39m\u001b[38;5;124morange\u001b[39m\u001b[38;5;124m'\u001b[39m)\n",
      "\u001b[1;31mAttributeError\u001b[0m: 'tuple' object has no attribute 'append'"
     ]
    }
   ],
   "source": [
    "# Create a tuple\n",
    "color = ('red', 'green', 'blue', 'yellow')\n",
    "\n",
    "# Display the complete tuple\n",
    "print(\"color = \", color)\n",
    "print(\"type = \", type(color))\n",
    "\n",
    "# Trying to add an element to the tuple\n",
    "color.append('orange')"
   ]
  },
  {
   "cell_type": "code",
   "execution_count": 50,
   "id": "9f35cd8b-c5e9-4be9-a877-866929c1396e",
   "metadata": {},
   "outputs": [
    {
     "name": "stdout",
     "output_type": "stream",
     "text": [
      "color =  ('red', 'green', 'blue', 'yellow')\n",
      "type =  <class 'tuple'>\n"
     ]
    },
    {
     "ename": "AttributeError",
     "evalue": "'tuple' object has no attribute 'remove'",
     "output_type": "error",
     "traceback": [
      "\u001b[1;31m---------------------------------------------------------------------------\u001b[0m",
      "\u001b[1;31mAttributeError\u001b[0m                            Traceback (most recent call last)",
      "Cell \u001b[1;32mIn[50], line 9\u001b[0m\n\u001b[0;32m      6\u001b[0m \u001b[38;5;28mprint\u001b[39m(\u001b[38;5;124m\"\u001b[39m\u001b[38;5;124mtype = \u001b[39m\u001b[38;5;124m\"\u001b[39m, \u001b[38;5;28mtype\u001b[39m(color))\n\u001b[0;32m      8\u001b[0m \u001b[38;5;66;03m# Trying to remove an element from the tuple\u001b[39;00m\n\u001b[1;32m----> 9\u001b[0m \u001b[43mcolor\u001b[49m\u001b[38;5;241;43m.\u001b[39;49m\u001b[43mremove\u001b[49m(\u001b[38;5;124m'\u001b[39m\u001b[38;5;124mred\u001b[39m\u001b[38;5;124m'\u001b[39m)\n",
      "\u001b[1;31mAttributeError\u001b[0m: 'tuple' object has no attribute 'remove'"
     ]
    }
   ],
   "source": [
    "# Create a tuple\n",
    "color = ('red', 'green', 'blue', 'yellow')\n",
    "\n",
    "# Display the complete tuple\n",
    "print(\"color = \", color)\n",
    "print(\"type = \", type(color))\n",
    "\n",
    "# Trying to remove an element from the tuple\n",
    "color.remove('red')"
   ]
  },
  {
   "cell_type": "code",
   "execution_count": 51,
   "id": "07e2b975-f9da-41a8-a6ad-9f0a7b2d255d",
   "metadata": {},
   "outputs": [
    {
     "name": "stdout",
     "output_type": "stream",
     "text": [
      "color =  ('red', 'green', 'blue', 'yellow', 'blue', 'green')\n",
      "type =  <class 'tuple'>\n"
     ]
    }
   ],
   "source": [
    "# Create a tuple\n",
    "color = ('red', 'green', 'blue', 'yellow', 'blue', 'green')\n",
    "\n",
    "# Display the complete tuple\n",
    "print(\"color = \", color)\n",
    "print(\"type = \", type(color))"
   ]
  },
  {
   "cell_type": "code",
   "execution_count": 52,
   "id": "82450b44-6955-4960-b059-9df471d7f256",
   "metadata": {},
   "outputs": [
    {
     "name": "stdout",
     "output_type": "stream",
     "text": [
      "color =  ('red', 'green', 'blue', 'yellow', 'blue', 'green')\n",
      "type =  <class 'tuple'>\n",
      "length =  6\n"
     ]
    }
   ],
   "source": [
    "# Create a tuple\n",
    "color = ('red', 'green', 'blue', 'yellow', 'blue', 'green')\n",
    "\n",
    "# Display the complete tuple\n",
    "print(\"color = \", color)\n",
    "print(\"type = \", type(color))\n",
    "print(\"length = \", len(color))"
   ]
  },
  {
   "cell_type": "code",
   "execution_count": 53,
   "id": "449c19c1-6341-4ea0-ba0e-8bf2a92d7e3e",
   "metadata": {},
   "outputs": [
    {
     "name": "stdout",
     "output_type": "stream",
     "text": [
      "color =  ('red', 'green', 'blue', 'yellow')\n",
      "numbers =  (23, 43, 54, 67, 84)\n",
      "bool_values =  (True, False, True, True)\n"
     ]
    }
   ],
   "source": [
    "# Create a tuple\n",
    "color = ('red', 'green', 'blue', 'yellow')\n",
    "numbers = (23, 43, 54, 67, 84)\n",
    "bool_values = (True, False, True, True)\n",
    "\n",
    "# Display the complete tuple\n",
    "print(\"color = \", color)\n",
    "print(\"numbers = \", numbers)\n",
    "print(\"bool_values = \", bool_values)"
   ]
  },
  {
   "cell_type": "code",
   "execution_count": 54,
   "id": "e521b550-ca2b-4605-bea2-646fa9988d6f",
   "metadata": {},
   "outputs": [
    {
     "name": "stdout",
     "output_type": "stream",
     "text": [
      "color =  ('red', 'green', 'blue', 'yellow')\n"
     ]
    }
   ],
   "source": [
    "# Create a tuple\n",
    "color = tuple(('red', 'green', 'blue', 'yellow'))\n",
    "\n",
    "# Display the complete tuple\n",
    "print(\"color = \", color)"
   ]
  },
  {
   "cell_type": "code",
   "execution_count": 55,
   "id": "d53a7001-1263-46ad-ae56-681f59f2e696",
   "metadata": {},
   "outputs": [
    {
     "name": "stdout",
     "output_type": "stream",
     "text": [
      "color =  ('blue', 'yellow', 'pink', 'purple')\n",
      "color =  ('yellow', 'pink', 'purple', 'grey', 'black')\n",
      "color =  ('red', 'green', 'blue', 'yellow', 'pink')\n"
     ]
    }
   ],
   "source": [
    "# Create a tuple\n",
    "color = tuple(('red', 'green', 'blue', 'yellow', 'pink', 'purple', 'grey', 'black'))\n",
    "\n",
    "# Display third to sixth elements\n",
    "print(\"color = \", color[2:6])\n",
    "\n",
    "# Display all the elements from fourth\n",
    "print(\"color = \", color[3:])\n",
    "\n",
    "# Display all the elements till fifth\n",
    "print(\"color = \", color[:5])"
   ]
  },
  {
   "cell_type": "code",
   "execution_count": 56,
   "id": "2085d357-4ded-450b-8296-59b79e817db2",
   "metadata": {},
   "outputs": [
    {
     "name": "stdout",
     "output_type": "stream",
     "text": [
      "fruits =  {'grapes', 'orange', 'banana', 'apple'}\n",
      "type =  <class 'set'>\n"
     ]
    }
   ],
   "source": [
    "# Create a set\n",
    "fruits = {'apple', 'orange', 'grapes', 'banana'}\n",
    "\n",
    "# Display the complete set\n",
    "print(\"fruits = \", fruits)\n",
    "print(\"type = \", type(fruits))"
   ]
  },
  {
   "cell_type": "code",
   "execution_count": 57,
   "id": "9cb1b327-51a2-4afc-a924-b0ee4ffc1085",
   "metadata": {},
   "outputs": [
    {
     "name": "stdout",
     "output_type": "stream",
     "text": [
      "fruits =  {'grapes', 'orange', 'banana', 'apple'}\n",
      "type =  <class 'set'>\n"
     ]
    }
   ],
   "source": [
    "# Create a set\n",
    "fruits = {'apple', 'orange', 'grapes', 'banana', 'orange', 'grapes', 'banana'}\n",
    "\n",
    "# Display the complete set\n",
    "print(\"fruits = \", fruits)\n",
    "print(\"type = \", type(fruits))"
   ]
  },
  {
   "cell_type": "code",
   "execution_count": 58,
   "id": "8e179f6f-877e-4b16-80da-8d28c9811104",
   "metadata": {},
   "outputs": [
    {
     "name": "stdout",
     "output_type": "stream",
     "text": [
      "fruits =  {False, True, 2, 'apple', 'grapes', 'orange'}\n",
      "type =  <class 'set'>\n"
     ]
    }
   ],
   "source": [
    "# Create a set\n",
    "fruits = {'apple', 'orange', 'grapes', True, False, 1, 2}\n",
    "\n",
    "# Display the complete set\n",
    "print(\"fruits = \", fruits)\n",
    "print(\"type = \", type(fruits))"
   ]
  },
  {
   "cell_type": "code",
   "execution_count": 59,
   "id": "2f18bf98-430b-44d0-b505-329e4f2cf3a6",
   "metadata": {},
   "outputs": [
    {
     "name": "stdout",
     "output_type": "stream",
     "text": [
      "fruits =  {False, True, 2, 'apple', 'grapes', 'orange'}\n",
      "type =  <class 'set'>\n",
      "len =  6\n"
     ]
    }
   ],
   "source": [
    "# Create a set\n",
    "fruits = {'apple', 'orange', 'grapes', True, False, 0, 1, 2}\n",
    "\n",
    "# Display the complete set\n",
    "print(\"fruits = \", fruits)\n",
    "print(\"type = \", type(fruits))\n",
    "print(\"len = \", len(fruits))"
   ]
  },
  {
   "cell_type": "code",
   "execution_count": 60,
   "id": "fc714ed7-57e9-48a0-9046-4e66f82d2219",
   "metadata": {},
   "outputs": [
    {
     "name": "stdout",
     "output_type": "stream",
     "text": [
      "fruits =  {'grapes', 'orange', 'apple'}\n",
      "type =  <class 'set'>\n",
      "len =  3\n"
     ]
    }
   ],
   "source": [
    "# Create a set\n",
    "fruits = set(('apple', 'orange', 'grapes'))\n",
    "\n",
    "# Display the complete set\n",
    "print(\"fruits = \", fruits)\n",
    "print(\"type = \", type(fruits))\n",
    "print(\"len = \", len(fruits))"
   ]
  },
  {
   "cell_type": "code",
   "execution_count": 61,
   "id": "a838a9f1-6da0-4ae6-a309-c3ec1a35b3ad",
   "metadata": {},
   "outputs": [
    {
     "name": "stdout",
     "output_type": "stream",
     "text": [
      "fruits =  {'grapes', 'orange', 'apple'}\n",
      "fruits =  {'grapes', 'pineapple', 'orange', 'apple'}\n"
     ]
    }
   ],
   "source": [
    "# Create a set\n",
    "fruits = {'apple', 'orange', 'grapes'}\n",
    "\n",
    "# Display the complete set\n",
    "print(\"fruits = \", fruits)\n",
    "\n",
    "# Add an element using add() method\n",
    "fruits.add(\"pineapple\")\n",
    "\n",
    "# Display after adding an element\n",
    "print(\"fruits = \", fruits)"
   ]
  },
  {
   "cell_type": "code",
   "execution_count": 62,
   "id": "b78e45da-f954-4d4a-8523-553ed1ee1cb8",
   "metadata": {},
   "outputs": [
    {
     "name": "stdout",
     "output_type": "stream",
     "text": [
      "\n",
      "fruits =  {'grapes', 'orange', 'apple'}\n",
      "veg =  {'carrot', 'potato', 'tomato'}\n",
      "\n",
      "fruits =  {'carrot', 'potato', 'apple', 'grapes', 'tomato', 'orange'}\n",
      "veg =  {'carrot', 'potato', 'tomato'}\n"
     ]
    }
   ],
   "source": [
    "# Create a set\n",
    "fruits = {'apple', 'orange', 'grapes'}\n",
    "veg = {'potato', 'tomato', 'carrot'}\n",
    "\n",
    "# Display the complete set\n",
    "print(\"\\nfruits = \", fruits)\n",
    "print(\"veg = \", veg)\n",
    "\n",
    "# Add the contents of veg to fruits using update() method\n",
    "fruits.update(veg)\n",
    "\n",
    "# Display after adding \n",
    "print(\"\\nfruits = \", fruits)\n",
    "print(\"veg = \", veg)"
   ]
  },
  {
   "cell_type": "code",
   "execution_count": 63,
   "id": "68d6b71c-ade8-4fea-acad-65bdddd3abc1",
   "metadata": {},
   "outputs": [
    {
     "name": "stdout",
     "output_type": "stream",
     "text": [
      "\n",
      "fruits =  {'grapes', 'pineapple', 'orange', 'apple'}\n",
      "\n",
      "fruits =  {'grapes', 'apple'}\n"
     ]
    }
   ],
   "source": [
    "# Create a set\n",
    "fruits = {'apple', 'orange', 'grapes', 'pineapple'}\n",
    "\n",
    "# Display the complete set\n",
    "print(\"\\nfruits = \", fruits)\n",
    "\n",
    "# Remove an element using remove() method\n",
    "fruits.remove(\"pineapple\")\n",
    "\n",
    "# Remove an element using discard() method\n",
    "fruits.remove(\"orange\")\n",
    "\n",
    "# Display after removing pineapple and orange\n",
    "print(\"\\nfruits = \", fruits)"
   ]
  },
  {
   "cell_type": "code",
   "execution_count": 64,
   "id": "e491098c-0986-4e48-9627-fc6852542819",
   "metadata": {},
   "outputs": [
    {
     "name": "stdout",
     "output_type": "stream",
     "text": [
      "\n",
      "fruits =  {'apple': 250, 'orange': 120, 'grapes': 85, 'pineapple': 45}\n",
      "type =  <class 'dict'>\n"
     ]
    }
   ],
   "source": [
    "# Create a dictionary\n",
    "fruits = {'apple': 250, 'orange': 120, 'grapes': 85, 'pineapple': 45}\n",
    "\n",
    "# Display the complete dictionary\n",
    "print(\"\\nfruits = \", fruits)\n",
    "print(\"type = \", type(fruits))"
   ]
  },
  {
   "cell_type": "code",
   "execution_count": 65,
   "id": "20f39a4b-b7b9-4b74-9db2-f6eafd42ac7a",
   "metadata": {},
   "outputs": [
    {
     "name": "stdout",
     "output_type": "stream",
     "text": [
      "\n",
      "Apple's price =  250\n",
      "Banana's price =  45\n"
     ]
    }
   ],
   "source": [
    "# Create a dictionary\n",
    "fruits = {'apple': 250, 'orange': 120, 'grapes': 85, 'banana': 45}\n",
    "\n",
    "# Display the complete dictionary\n",
    "print(\"\\nApple's price = \", fruits['apple'])\n",
    "print(\"Banana's price = \", fruits['banana'])"
   ]
  },
  {
   "cell_type": "code",
   "execution_count": 66,
   "id": "1f684840-0b62-43d1-b928-8e0bb8639203",
   "metadata": {},
   "outputs": [
    {
     "name": "stdout",
     "output_type": "stream",
     "text": [
      "\n",
      "fruits =  {'apple': 250, 'orange': 120, 'grapes': 85, 'banana': 58}\n"
     ]
    }
   ],
   "source": [
    "# Create a dictionary\n",
    "fruits = {'apple': 250, 'orange': 120, 'grapes': 85, 'banana': 45, 'banana': 58}\n",
    "\n",
    "# Display the complete dictionary\n",
    "print(\"\\nfruits = \", fruits)"
   ]
  },
  {
   "cell_type": "code",
   "execution_count": 67,
   "id": "6922ec0a-deb9-4d62-aed9-ed9cea73a044",
   "metadata": {},
   "outputs": [
    {
     "name": "stdout",
     "output_type": "stream",
     "text": [
      "\n",
      "fruits =  {'apple': 250, 'orange': 120, 'grapes': 85, 'banana': 45}\n",
      "type =  <class 'dict'>\n"
     ]
    }
   ],
   "source": [
    "# Create a dictionary\n",
    "fruits = {'apple': 250, 'orange': 120, 'grapes': 85, 'banana': 45}\n",
    "\n",
    "# Display the complete dictionary\n",
    "print(\"\\nfruits = \", fruits)\n",
    "print(\"type = \", type(fruits))"
   ]
  },
  {
   "cell_type": "code",
   "execution_count": 68,
   "id": "8b35e345-ad3b-4dce-9596-9a9e1133af0e",
   "metadata": {},
   "outputs": [
    {
     "name": "stdout",
     "output_type": "stream",
     "text": [
      "\n",
      "car=  {'Company': 'Hyundai', 'Model': 'Verna', 'Year': 2020, 'colors': ['red', 'blue', 'silver']}\n",
      "len =  4\n"
     ]
    }
   ],
   "source": [
    "# Create a dictionary\n",
    "car = {'Company': 'Hyundai',\n",
    "       'Model': 'Verna',\n",
    "       'Year': 2020,\n",
    "       'colors': ['red', 'blue', 'silver']}\n",
    "\n",
    "# Display the complete dictionary\n",
    "print(\"\\ncar= \", car)\n",
    "print(\"len = \", len(car))"
   ]
  },
  {
   "cell_type": "code",
   "execution_count": 69,
   "id": "4edc3cb9-c0d8-4f54-8940-2bc5e70475af",
   "metadata": {},
   "outputs": [
    {
     "name": "stdout",
     "output_type": "stream",
     "text": [
      "\n",
      "fruits =  {'apple': 250, 'orange': 120, 'grapes': 85, 'banana': 45}\n"
     ]
    }
   ],
   "source": [
    "# Create a dictionary\n",
    "fruits = dict(apple = 250, orange = 120, grapes = 85, banana = 45)\n",
    "\n",
    "# Display the complete dictionary\n",
    "print(\"\\nfruits = \", fruits)"
   ]
  },
  {
   "cell_type": "code",
   "execution_count": 70,
   "id": "f2a75ad8-cf36-40f9-a3ce-7a31977ab528",
   "metadata": {},
   "outputs": [
    {
     "name": "stdout",
     "output_type": "stream",
     "text": [
      "\n",
      "Apple's price =  250\n",
      "\n",
      "Apple's price =  250\n"
     ]
    }
   ],
   "source": [
    "# Create a dictionary\n",
    "fruits = {'apple': 250, 'orange': 120, 'grapes': 85, 'banana': 45}\n",
    "\n",
    "# Display the complete dictionary\n",
    "print(\"\\nApple's price = \", fruits['apple'])\n",
    "print(\"\\nApple's price = \", fruits.get('apple'))"
   ]
  },
  {
   "cell_type": "code",
   "execution_count": 71,
   "id": "580273dd-081e-4522-83c1-b2fb0d466b7e",
   "metadata": {},
   "outputs": [
    {
     "name": "stdout",
     "output_type": "stream",
     "text": [
      "\n",
      "Keys =  dict_keys(['apple', 'orange', 'grapes', 'banana'])\n"
     ]
    }
   ],
   "source": [
    "# Create a dictionary\n",
    "fruits = {'apple': 250, 'orange': 120, 'grapes': 85, 'banana': 45}\n",
    "\n",
    "# Display the Keys\n",
    "print(\"\\nKeys = \", fruits.keys())"
   ]
  },
  {
   "cell_type": "code",
   "execution_count": 72,
   "id": "0049f126-d278-473f-b367-b6d199cbf00e",
   "metadata": {},
   "outputs": [
    {
     "name": "stdout",
     "output_type": "stream",
     "text": [
      "\n",
      "Values =  dict_values([250, 120, 85, 45])\n"
     ]
    }
   ],
   "source": [
    "# Create a dictionary\n",
    "fruits = {'apple': 250, 'orange': 120, 'grapes': 85, 'banana': 45}\n",
    "\n",
    "# Display the values\n",
    "print(\"\\nValues = \", fruits.values())"
   ]
  },
  {
   "cell_type": "code",
   "execution_count": 73,
   "id": "c405f2d8-95b6-44dd-a91b-0ce60f09d34a",
   "metadata": {},
   "outputs": [
    {
     "name": "stdout",
     "output_type": "stream",
     "text": [
      "\n",
      "Key-value pairs =  dict_items([('apple', 250), ('orange', 120), ('grapes', 85), ('banana', 45)])\n"
     ]
    }
   ],
   "source": [
    "# Create a dictionary\n",
    "fruits = {'apple': 250, 'orange': 120, 'grapes': 85, 'banana': 45}\n",
    "\n",
    "# Display the Key-value pairs\n",
    "print(\"\\nKey-value pairs = \", fruits.items())"
   ]
  },
  {
   "cell_type": "code",
   "execution_count": 74,
   "id": "efdcc9f0-e072-42c1-a74f-a7737a5c6977",
   "metadata": {},
   "outputs": [
    {
     "name": "stdout",
     "output_type": "stream",
     "text": [
      "\n",
      "fruits =  {'apple': 250, 'orange': 120, 'grapes': 85, 'banana': 45}\n",
      "\n",
      "fruits after miodification =  {'apple': 250, 'orange': 140, 'grapes': 85, 'banana': 60}\n"
     ]
    }
   ],
   "source": [
    "# Create a dictionary\n",
    "fruits = {'apple': 250, 'orange': 120, 'grapes': 85, 'banana': 45}\n",
    "\n",
    "# Display the complete dictionary\n",
    "print(\"\\nfruits = \", fruits)\n",
    "\n",
    "# Modify the dictionary\n",
    "fruits['orange'] = 140\n",
    "fruits.update({'banana': 60})\n",
    "\n",
    "# Display the complete dictionary after modification\n",
    "print(\"\\nfruits after miodification = \", fruits)"
   ]
  },
  {
   "cell_type": "code",
   "execution_count": 75,
   "id": "a43bd6db-0d5a-4044-b346-65659505754c",
   "metadata": {},
   "outputs": [
    {
     "name": "stdout",
     "output_type": "stream",
     "text": [
      "True\n",
      "False\n"
     ]
    }
   ],
   "source": [
    "# STRING\n",
    "str1 = 'Python is easy!'\n",
    "\n",
    "# try in and not in operators\n",
    "print('Python' in str1)\n",
    "print('Python' not in str1)"
   ]
  },
  {
   "cell_type": "code",
   "execution_count": 76,
   "id": "9ef836da-c51f-4d64-87ec-d5963b40af92",
   "metadata": {},
   "outputs": [
    {
     "name": "stdout",
     "output_type": "stream",
     "text": [
      "True\n",
      "False\n"
     ]
    }
   ],
   "source": [
    "# LIST\n",
    "list1 = [10, 20, 30, 40, 50]\n",
    "\n",
    "# try in and not in operators\n",
    "print(40 in list1)\n",
    "print(40 not in list1)"
   ]
  },
  {
   "cell_type": "code",
   "execution_count": 77,
   "id": "4d501d1d-7caf-45cf-a1f3-b8f793a73918",
   "metadata": {},
   "outputs": [
    {
     "name": "stdout",
     "output_type": "stream",
     "text": [
      "True\n",
      "True\n",
      "True\n",
      "True\n",
      "False\n",
      "False\n",
      "False\n",
      "False\n"
     ]
    }
   ],
   "source": [
    "# DICTIONARY\n",
    "dict1 = {'A':10, 'B':20, 'C':30, 'D':40}\n",
    "\n",
    "# try in and not in operators\n",
    "print('A' in dict1)\n",
    "print('A' in dict1.keys())\n",
    "print(40 in dict1.values())\n",
    "print(('A', 10) in dict1.items())\n",
    "\n",
    "print('A' not in dict1)\n",
    "print('A' not in dict1.keys())\n",
    "print(40 not in dict1.values())\n",
    "print(('A', 10) not in dict1.items())"
   ]
  },
  {
   "cell_type": "code",
   "execution_count": 78,
   "id": "9dba0e15-fede-4115-b3cb-370d7aa9eeb8",
   "metadata": {},
   "outputs": [
    {
     "name": "stdout",
     "output_type": "stream",
     "text": [
      "a =  [0, 1, 2, 3, 4, 5, 6, 7, 8, 9]\n",
      "b =  [1, 2, 3, 4, 5, 6, 7, 8, 9]\n",
      "c =  [0, 2, 4, 6, 8, 10, 12, 14, 16, 18, 20, 22, 24, 26, 28, 30, 32, 34, 36, 38, 40, 42, 44, 46, 48]\n"
     ]
    }
   ],
   "source": [
    "# RANGE FUNCTION IN PYTHON\n",
    "\n",
    "# creates a list of 10 elements starting from 0\n",
    "a = list(range(10))\n",
    "print('a = ', a)\n",
    "\n",
    "# creates a list of values from 1 to 10 excluding 10\n",
    "b = list(range(1, 10))\n",
    "print('b = ', b)\n",
    "\n",
    "# creates a list of values starting from 0 till 50 with a step count of 2\n",
    "c = list(range(0, 50, 2))\n",
    "print('c = ', c)"
   ]
  },
  {
   "cell_type": "code",
   "execution_count": 79,
   "id": "442443d7-e777-461f-aa3b-9e8245015424",
   "metadata": {},
   "outputs": [
    {
     "name": "stdout",
     "output_type": "stream",
     "text": [
      "range(0, 10)\n",
      "True\n",
      "False\n"
     ]
    }
   ],
   "source": [
    "# IN OPERATOR IN RANGE\n",
    "a = range(10)\n",
    "print(a)\n",
    "print(5 in a)\n",
    "print(5 not in a)"
   ]
  },
  {
   "cell_type": "code",
   "execution_count": null,
   "id": "5791c789-8ec0-4a8d-a033-51d764efc0eb",
   "metadata": {},
   "outputs": [],
   "source": []
  }
 ],
 "metadata": {
  "kernelspec": {
   "display_name": "Python 3 (ipykernel)",
   "language": "python",
   "name": "python3"
  },
  "language_info": {
   "codemirror_mode": {
    "name": "ipython",
    "version": 3
   },
   "file_extension": ".py",
   "mimetype": "text/x-python",
   "name": "python",
   "nbconvert_exporter": "python",
   "pygments_lexer": "ipython3",
   "version": "3.12.0"
  }
 },
 "nbformat": 4,
 "nbformat_minor": 5
}
