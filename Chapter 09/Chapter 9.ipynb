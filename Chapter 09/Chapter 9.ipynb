{
 "cells": [
  {
   "cell_type": "markdown",
   "id": "c02cc9a2-2134-4aa5-bcfa-08a483e052a9",
   "metadata": {},
   "source": [
    "# Chapter 9\n",
    "# File Operations\n",
    "Create a text file as explained in the chapter and proceed further"
   ]
  },
  {
   "cell_type": "code",
   "execution_count": 1,
   "id": "c0a45f76-c235-4973-be1b-fd7cc998e9ec",
   "metadata": {},
   "outputs": [
    {
     "name": "stdout",
     "output_type": "stream",
     "text": [
      "This is my text file.\n",
      "This file is created for the demonstration purpose.\n",
      "Your are learning file operations by using this text file.\n"
     ]
    }
   ],
   "source": [
    "file = open('MyTextFile.txt', 'r')\n",
    "contents = file.read()\n",
    "print(contents)\n",
    "file.close()"
   ]
  },
  {
   "cell_type": "code",
   "execution_count": 2,
   "id": "d067dda7-628e-4133-a87a-2660caebac1a",
   "metadata": {},
   "outputs": [
    {
     "name": "stdout",
     "output_type": "stream",
     "text": [
      "This is my text file.\n",
      "This file is created for the demonstration purpose.\n",
      "Your are learning file operations by using this text file.\n"
     ]
    }
   ],
   "source": [
    "with open('MyTextFile.txt', 'r') as file:\n",
    "    # inner block begins\n",
    "    contents = file.read()\n",
    "    # inner block ends\n",
    "\n",
    "print(contents)"
   ]
  },
  {
   "cell_type": "code",
   "execution_count": 3,
   "id": "ad504dda-4c4a-45e8-b266-cff9aa828a49",
   "metadata": {},
   "outputs": [
    {
     "data": {
      "text/plain": [
       "'C:\\\\Users\\\\Pc\\\\Documents\\\\Chandrika\\\\Chapters\\\\CodeFiles'"
      ]
     },
     "execution_count": 3,
     "metadata": {},
     "output_type": "execute_result"
    }
   ],
   "source": [
    "import os\n",
    "os.getcwd()"
   ]
  },
  {
   "cell_type": "code",
   "execution_count": 4,
   "id": "345a58b7-c2d9-405e-bca8-4a13b4375eaa",
   "metadata": {},
   "outputs": [
    {
     "data": {
      "text/plain": [
       "'C:\\\\users\\\\Pc\\\\Documents\\\\Chandrika'"
      ]
     },
     "execution_count": 4,
     "metadata": {},
     "output_type": "execute_result"
    }
   ],
   "source": [
    "os.chdir('C:\\\\users\\\\Pc\\\\Documents\\\\Chandrika')\n",
    "os.getcwd()"
   ]
  },
  {
   "cell_type": "code",
   "execution_count": 7,
   "id": "5cce7124-96f6-4bd7-a105-640cf42be6bd",
   "metadata": {},
   "outputs": [
    {
     "name": "stdout",
     "output_type": "stream",
     "text": [
      "Hello,\n",
      "This is a sample text file.\n"
     ]
    }
   ],
   "source": [
    "with open('Files/TextFile1.txt', 'r') as file:\n",
    "    contents = file.read()\n",
    "    \n",
    "print(contents)"
   ]
  },
  {
   "cell_type": "code",
   "execution_count": 8,
   "id": "b2844bdd-a0d4-4ced-8c53-95f57594e658",
   "metadata": {},
   "outputs": [
    {
     "name": "stdout",
     "output_type": "stream",
     "text": [
      "This is my text file.\n",
      "This file is created for the demonstration purpose.\n",
      "Your are learning file operations by using this text file.\n"
     ]
    }
   ],
   "source": [
    "with open('MyTextFile.txt', 'r') as file:\n",
    "    contents = file.read()\n",
    "\n",
    "print(contents)"
   ]
  },
  {
   "cell_type": "code",
   "execution_count": 9,
   "id": "0dcdd03d-9e43-48ee-9fc3-08987ea96cd7",
   "metadata": {},
   "outputs": [
    {
     "name": "stdout",
     "output_type": "stream",
     "text": [
      "First 12 characters: \n",
      " This is my t\n",
      "\n",
      "Rest of the characters: \n",
      " ext file.\n",
      "This file is created for the demonstration purpose.\n",
      "Your are learning file operations by using this text file.\n"
     ]
    }
   ],
   "source": [
    "with open('MyTextFile.txt', 'r') as file:\n",
    "    first = file.read(12)\n",
    "    rest = file.read()\n",
    "print(\"First 12 characters: \\n\", first)\n",
    "\n",
    "print(\"\\nRest of the characters: \\n\", rest)"
   ]
  },
  {
   "cell_type": "code",
   "execution_count": 10,
   "id": "9d2b86b5-4110-4ed5-b184-abac3acf9d96",
   "metadata": {},
   "outputs": [
    {
     "name": "stdout",
     "output_type": "stream",
     "text": [
      "<class 'list'>\n",
      "\n",
      "Line  1 This is my text file.\n",
      "\n",
      "\n",
      "Line  2 This file is created for the demonstration purpose.\n",
      "\n",
      "\n",
      "Line  3 Your are learning file operations by using this text file.\n"
     ]
    }
   ],
   "source": [
    "with open('MyTextFile.txt', 'r') as file:\n",
    "    contents = file.readlines()\n",
    "\n",
    "print(type(contents))\n",
    "\n",
    "for i in range(len(contents)):\n",
    "    print(\"\\nLine \", i+1, contents[i])"
   ]
  },
  {
   "cell_type": "code",
   "execution_count": 11,
   "id": "193422de-8e40-46fb-a555-ab3369164096",
   "metadata": {},
   "outputs": [
    {
     "name": "stdout",
     "output_type": "stream",
     "text": [
      "This is my text file.\n",
      "This file is created for the demonstration purpose.\n",
      "Your are learning file operations by using this text file.\n"
     ]
    }
   ],
   "source": [
    "with open('MyTextFile.txt', 'r') as file:\n",
    "    contents = file.read()\n",
    "\n",
    "print(contents)"
   ]
  },
  {
   "cell_type": "code",
   "execution_count": 12,
   "id": "e10617fb-3382-4852-a8f5-d8db387d0c42",
   "metadata": {},
   "outputs": [
    {
     "name": "stdout",
     "output_type": "stream",
     "text": [
      "22\n",
      "52\n",
      "58\n"
     ]
    }
   ],
   "source": [
    "with open('MyTextFile.txt', 'r') as file:\n",
    "    for line in file:\n",
    "        print(len(line))"
   ]
  },
  {
   "cell_type": "code",
   "execution_count": 13,
   "id": "18f2c075-8f38-406f-89e6-5297c4d775cf",
   "metadata": {},
   "outputs": [
    {
     "name": "stdout",
     "output_type": "stream",
     "text": [
      "This is my text file.\n",
      "This file is created for the demonstration purpose.\n",
      "Your are learning file operations by using this text file.\n"
     ]
    }
   ],
   "source": [
    "with open('MyTextFile.txt', 'r') as file:\n",
    "    contents = file.read()\n",
    "\n",
    "print(contents)"
   ]
  },
  {
   "cell_type": "code",
   "execution_count": 14,
   "id": "9a705d71-7900-4988-8a64-81404a7a22d0",
   "metadata": {},
   "outputs": [
    {
     "name": "stdout",
     "output_type": "stream",
     "text": [
      "Your are learning file operations by using this text file.\n"
     ]
    }
   ],
   "source": [
    "with open('MyTextFile.txt', 'r') as file:\n",
    "    file.readline()\n",
    "    file.readline()\n",
    "    contents = file.read()\n",
    "\n",
    "print(contents)"
   ]
  },
  {
   "cell_type": "code",
   "execution_count": 15,
   "id": "6348edcf-591a-46ce-99e8-69fd2677f4ba",
   "metadata": {},
   "outputs": [
    {
     "name": "stdout",
     "output_type": "stream",
     "text": [
      "This is my text file.\n",
      "This file is created for the demonstration purpose.\n",
      "Your are learning file operations by using this text file.\n"
     ]
    }
   ],
   "source": [
    "with open('MyTextFile.txt', 'r') as file:\n",
    "    line = file.readline().strip()\n",
    "    while line.startswith('#'):\n",
    "        line = file.readline().strip()\n",
    "    contents = line + '\\n' + file.read()\n",
    "\n",
    "print(contents)"
   ]
  },
  {
   "cell_type": "markdown",
   "id": "58c07a60-786f-48af-93a5-1963dc491451",
   "metadata": {},
   "source": [
    "### You can try the remaining codes as per instructions given in the chapter."
   ]
  },
  {
   "cell_type": "code",
   "execution_count": null,
   "id": "eca6a207-e115-4002-ae41-d862b35a4110",
   "metadata": {},
   "outputs": [],
   "source": []
  }
 ],
 "metadata": {
  "kernelspec": {
   "display_name": "Python 3 (ipykernel)",
   "language": "python",
   "name": "python3"
  },
  "language_info": {
   "codemirror_mode": {
    "name": "ipython",
    "version": 3
   },
   "file_extension": ".py",
   "mimetype": "text/x-python",
   "name": "python",
   "nbconvert_exporter": "python",
   "pygments_lexer": "ipython3",
   "version": "3.12.0"
  }
 },
 "nbformat": 4,
 "nbformat_minor": 5
}
