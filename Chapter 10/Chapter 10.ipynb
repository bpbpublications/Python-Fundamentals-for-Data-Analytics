{
 "cells": [
  {
   "cell_type": "markdown",
   "id": "0648ab8d-2a4c-453b-96fe-ee24bcc65b16",
   "metadata": {},
   "source": [
    "# Chapter 10\n",
    "# Working with Data\n",
    "### NUMPY"
   ]
  },
  {
   "cell_type": "code",
   "execution_count": 1,
   "id": "5f6c4305-a2a8-4ab9-a339-34949c039b8b",
   "metadata": {},
   "outputs": [
    {
     "name": "stdout",
     "output_type": "stream",
     "text": [
      "Defaulting to user installation because normal site-packages is not writeable\n",
      "Requirement already satisfied: numpy in c:\\users\\pc\\appdata\\roaming\\python\\python312\\site-packages (1.26.1)\n"
     ]
    }
   ],
   "source": [
    "# to install numpy\n",
    "!pip install numpy"
   ]
  },
  {
   "cell_type": "code",
   "execution_count": 2,
   "id": "203f54c4-bc85-4d76-8b4f-796e204ede39",
   "metadata": {},
   "outputs": [],
   "source": [
    "import numpy as np"
   ]
  },
  {
   "cell_type": "code",
   "execution_count": 3,
   "id": "3a3f383d-ece5-4fbf-8e2c-5b71fe26ba6f",
   "metadata": {},
   "outputs": [],
   "source": [
    "# creating a list\n",
    "list1 = [2, 4, 5, 7]\n",
    "\n",
    "# Creating a numpy array from the existing list\n",
    "arr = np.array(list1)"
   ]
  },
  {
   "cell_type": "code",
   "execution_count": 4,
   "id": "bb28a3fa-eed8-415c-b23b-c70d3411ef35",
   "metadata": {},
   "outputs": [
    {
     "data": {
      "text/plain": [
       "numpy.ndarray"
      ]
     },
     "execution_count": 4,
     "metadata": {},
     "output_type": "execute_result"
    }
   ],
   "source": [
    "type(arr)"
   ]
  },
  {
   "cell_type": "raw",
   "id": "a7eb1cf1-193e-40d2-9e93-51beb9311c2f",
   "metadata": {},
   "source": [
    "print(arr)"
   ]
  },
  {
   "cell_type": "raw",
   "id": "e67a0d75-8f73-443a-aecf-620c23e3abc6",
   "metadata": {},
   "source": [
    "arr[0]"
   ]
  },
  {
   "cell_type": "code",
   "execution_count": 5,
   "id": "e1923bad-ad03-4d6a-bc31-07640c004a73",
   "metadata": {},
   "outputs": [
    {
     "data": {
      "text/plain": [
       "4"
      ]
     },
     "execution_count": 5,
     "metadata": {},
     "output_type": "execute_result"
    }
   ],
   "source": [
    "arr[1]"
   ]
  },
  {
   "cell_type": "code",
   "execution_count": 6,
   "id": "02a3232d-80a8-41e5-9f38-562e07521bc7",
   "metadata": {},
   "outputs": [
    {
     "data": {
      "text/plain": [
       "5"
      ]
     },
     "execution_count": 6,
     "metadata": {},
     "output_type": "execute_result"
    }
   ],
   "source": [
    "arr[2]"
   ]
  },
  {
   "cell_type": "code",
   "execution_count": 7,
   "id": "3e59e627-f653-44c7-8151-7cc689c74088",
   "metadata": {},
   "outputs": [
    {
     "data": {
      "text/plain": [
       "7"
      ]
     },
     "execution_count": 7,
     "metadata": {},
     "output_type": "execute_result"
    }
   ],
   "source": [
    "arr[3]"
   ]
  },
  {
   "cell_type": "code",
   "execution_count": 8,
   "id": "9c1d121f-b6d8-48eb-a052-db2434e8f964",
   "metadata": {},
   "outputs": [
    {
     "ename": "IndexError",
     "evalue": "index 4 is out of bounds for axis 0 with size 4",
     "output_type": "error",
     "traceback": [
      "\u001b[1;31m---------------------------------------------------------------------------\u001b[0m",
      "\u001b[1;31mIndexError\u001b[0m                                Traceback (most recent call last)",
      "Cell \u001b[1;32mIn[8], line 1\u001b[0m\n\u001b[1;32m----> 1\u001b[0m \u001b[43marr\u001b[49m\u001b[43m[\u001b[49m\u001b[38;5;241;43m4\u001b[39;49m\u001b[43m]\u001b[49m\n",
      "\u001b[1;31mIndexError\u001b[0m: index 4 is out of bounds for axis 0 with size 4"
     ]
    }
   ],
   "source": [
    "arr[4]"
   ]
  },
  {
   "cell_type": "code",
   "execution_count": 13,
   "id": "e64bfdb5-f039-463f-b59e-fab319dc7c26",
   "metadata": {},
   "outputs": [],
   "source": [
    "arr[3] = 8"
   ]
  },
  {
   "cell_type": "code",
   "execution_count": 14,
   "id": "047459cb-f250-4e0e-ae32-5f2eaec3bded",
   "metadata": {},
   "outputs": [
    {
     "name": "stdout",
     "output_type": "stream",
     "text": [
      "[2 4 5 8]\n"
     ]
    }
   ],
   "source": [
    "print(arr)"
   ]
  },
  {
   "cell_type": "code",
   "execution_count": 15,
   "id": "5316110d-653e-45a9-be28-d780d7012ba2",
   "metadata": {},
   "outputs": [
    {
     "data": {
      "text/plain": [
       "8"
      ]
     },
     "execution_count": 15,
     "metadata": {},
     "output_type": "execute_result"
    }
   ],
   "source": [
    "arr[-1]"
   ]
  },
  {
   "cell_type": "code",
   "execution_count": 16,
   "id": "df82dcf3-6734-4692-8c92-c9431fe3b4e2",
   "metadata": {},
   "outputs": [
    {
     "data": {
      "text/plain": [
       "5"
      ]
     },
     "execution_count": 16,
     "metadata": {},
     "output_type": "execute_result"
    }
   ],
   "source": [
    "arr[-2]"
   ]
  },
  {
   "cell_type": "code",
   "execution_count": 17,
   "id": "a49536d4-958b-4ff9-a2f5-54cca0ff875c",
   "metadata": {},
   "outputs": [
    {
     "data": {
      "text/plain": [
       "4"
      ]
     },
     "execution_count": 17,
     "metadata": {},
     "output_type": "execute_result"
    }
   ],
   "source": [
    "arr[-3]"
   ]
  },
  {
   "cell_type": "code",
   "execution_count": 18,
   "id": "d3a51f09-f92d-496b-8270-72415ccd4138",
   "metadata": {},
   "outputs": [
    {
     "data": {
      "text/plain": [
       "2"
      ]
     },
     "execution_count": 18,
     "metadata": {},
     "output_type": "execute_result"
    }
   ],
   "source": [
    "arr[-4]"
   ]
  },
  {
   "cell_type": "code",
   "execution_count": 19,
   "id": "818cbeb5-1f1b-4fdb-b363-ef3e62f60d7c",
   "metadata": {},
   "outputs": [
    {
     "ename": "IndexError",
     "evalue": "index -5 is out of bounds for axis 0 with size 4",
     "output_type": "error",
     "traceback": [
      "\u001b[1;31m---------------------------------------------------------------------------\u001b[0m",
      "\u001b[1;31mIndexError\u001b[0m                                Traceback (most recent call last)",
      "Cell \u001b[1;32mIn[19], line 1\u001b[0m\n\u001b[1;32m----> 1\u001b[0m \u001b[43marr\u001b[49m\u001b[43m[\u001b[49m\u001b[38;5;241;43m-\u001b[39;49m\u001b[38;5;241;43m5\u001b[39;49m\u001b[43m]\u001b[49m\n",
      "\u001b[1;31mIndexError\u001b[0m: index -5 is out of bounds for axis 0 with size 4"
     ]
    }
   ],
   "source": [
    "arr[-5]"
   ]
  },
  {
   "cell_type": "code",
   "execution_count": 20,
   "id": "ab2b8932-1612-4e20-9d9c-2cc837e5dcad",
   "metadata": {},
   "outputs": [
    {
     "data": {
      "text/plain": [
       "array([0, 1, 2, 3, 4, 5, 6, 7, 8, 9])"
      ]
     },
     "execution_count": 20,
     "metadata": {},
     "output_type": "execute_result"
    }
   ],
   "source": [
    "np.arange(10)"
   ]
  },
  {
   "cell_type": "code",
   "execution_count": 21,
   "id": "437bfd12-c0bb-4660-86a9-721a8cedf291",
   "metadata": {},
   "outputs": [
    {
     "data": {
      "text/plain": [
       "array([11, 13, 15, 17, 19, 21, 23, 25, 27, 29])"
      ]
     },
     "execution_count": 21,
     "metadata": {},
     "output_type": "execute_result"
    }
   ],
   "source": [
    "np.arange(11,31,2)"
   ]
  },
  {
   "cell_type": "code",
   "execution_count": 22,
   "id": "a154b80b-867d-4700-a01f-bab816331494",
   "metadata": {},
   "outputs": [
    {
     "data": {
      "text/plain": [
       "array([5.])"
      ]
     },
     "execution_count": 22,
     "metadata": {},
     "output_type": "execute_result"
    }
   ],
   "source": [
    "np.arange(5, 20, 33, dtype=float)"
   ]
  },
  {
   "cell_type": "code",
   "execution_count": 23,
   "id": "7c0bdff3-8cfb-4106-898c-f20b3828b5b0",
   "metadata": {},
   "outputs": [
    {
     "data": {
      "text/plain": [
       "array([0, 0, 0])"
      ]
     },
     "execution_count": 23,
     "metadata": {},
     "output_type": "execute_result"
    }
   ],
   "source": [
    "np.zeros(shape=3, dtype=int)"
   ]
  },
  {
   "cell_type": "code",
   "execution_count": 24,
   "id": "afab4332-4ab5-435f-9b6d-eb624ca8f4be",
   "metadata": {},
   "outputs": [
    {
     "data": {
      "text/plain": [
       "array([1., 1., 1., 1., 1., 1.])"
      ]
     },
     "execution_count": 24,
     "metadata": {},
     "output_type": "execute_result"
    }
   ],
   "source": [
    "np.ones(shape=6)"
   ]
  },
  {
   "cell_type": "code",
   "execution_count": 25,
   "id": "89d39d01-301c-40b3-aba8-0c6dea139529",
   "metadata": {},
   "outputs": [
    {
     "data": {
      "text/plain": [
       "array([1., 1., 1.])"
      ]
     },
     "execution_count": 25,
     "metadata": {},
     "output_type": "execute_result"
    }
   ],
   "source": [
    "np.ones(shape=3)"
   ]
  },
  {
   "cell_type": "code",
   "execution_count": 26,
   "id": "c2698ae0-538b-4adc-8c4c-29c73cccd0cf",
   "metadata": {},
   "outputs": [
    {
     "data": {
      "text/plain": [
       "array([[0, 0, 0],\n",
       "       [0, 0, 0],\n",
       "       [0, 0, 0]])"
      ]
     },
     "execution_count": 26,
     "metadata": {},
     "output_type": "execute_result"
    }
   ],
   "source": [
    "np.zeros(shape=(3, 3), dtype=int)"
   ]
  },
  {
   "cell_type": "code",
   "execution_count": 27,
   "id": "721f1925-ae7e-42a3-aded-cb32fd29b11b",
   "metadata": {},
   "outputs": [
    {
     "data": {
      "text/plain": [
       "array([[1, 2, 3],\n",
       "       [4, 5, 6],\n",
       "       [7, 8, 9]])"
      ]
     },
     "execution_count": 27,
     "metadata": {},
     "output_type": "execute_result"
    }
   ],
   "source": [
    "np.array([ [1, 2, 3], [4, 5, 6], [7, 8, 9] ])"
   ]
  },
  {
   "cell_type": "code",
   "execution_count": 28,
   "id": "6e44f246-3ca9-4771-84d5-5b040f847f06",
   "metadata": {},
   "outputs": [
    {
     "data": {
      "text/plain": [
       "array([0.  , 0.25, 0.5 , 0.75, 1.  ])"
      ]
     },
     "execution_count": 28,
     "metadata": {},
     "output_type": "execute_result"
    }
   ],
   "source": [
    "np.linspace(start=0, stop=1, num=5)"
   ]
  },
  {
   "cell_type": "code",
   "execution_count": 29,
   "id": "cf993964-cf13-406d-8932-066bf52d4d5e",
   "metadata": {},
   "outputs": [
    {
     "data": {
      "text/plain": [
       "array([1., 2., 3., 4., 5.])"
      ]
     },
     "execution_count": 29,
     "metadata": {},
     "output_type": "execute_result"
    }
   ],
   "source": [
    "np.linspace(start=1, stop=5, num=5)"
   ]
  },
  {
   "cell_type": "code",
   "execution_count": 30,
   "id": "7a8e1ed7-c189-4f1c-ac83-2da21d6c25d6",
   "metadata": {},
   "outputs": [
    {
     "data": {
      "text/plain": [
       "array([[1., 0., 0.],\n",
       "       [0., 1., 0.],\n",
       "       [0., 0., 1.]])"
      ]
     },
     "execution_count": 30,
     "metadata": {},
     "output_type": "execute_result"
    }
   ],
   "source": [
    "np.eye(N=3)"
   ]
  },
  {
   "cell_type": "code",
   "execution_count": 31,
   "id": "0436b990-61b8-4b69-918b-10f936ac1129",
   "metadata": {},
   "outputs": [
    {
     "data": {
      "text/plain": [
       "array([[1, 0, 0],\n",
       "       [0, 1, 0],\n",
       "       [0, 0, 1],\n",
       "       [0, 0, 0],\n",
       "       [0, 0, 0],\n",
       "       [0, 0, 0]])"
      ]
     },
     "execution_count": 31,
     "metadata": {},
     "output_type": "execute_result"
    }
   ],
   "source": [
    "np.eye(N=6, M=3, dtype=int)"
   ]
  },
  {
   "cell_type": "code",
   "execution_count": 32,
   "id": "8732c944-b9d6-44c3-a63b-625721266719",
   "metadata": {},
   "outputs": [
    {
     "data": {
      "text/plain": [
       "0.37363733157138856"
      ]
     },
     "execution_count": 32,
     "metadata": {},
     "output_type": "execute_result"
    }
   ],
   "source": [
    "# to generate a random number\n",
    "np.random.rand()"
   ]
  },
  {
   "cell_type": "code",
   "execution_count": 33,
   "id": "b2f6dbbf-0ae8-4a95-9a43-4735d6c2e5e1",
   "metadata": {},
   "outputs": [
    {
     "data": {
      "text/plain": [
       "array([0.51808944, 0.87804178, 0.7137482 ])"
      ]
     },
     "execution_count": 33,
     "metadata": {},
     "output_type": "execute_result"
    }
   ],
   "source": [
    "# To generate 3 random numbers\n",
    "np.random.rand(3)"
   ]
  },
  {
   "cell_type": "code",
   "execution_count": 34,
   "id": "c90e9908-4360-4e5d-8d26-a74a798b31cd",
   "metadata": {},
   "outputs": [
    {
     "data": {
      "text/plain": [
       "array([[0.46845275, 0.20512755, 0.87316788, 0.8002459 , 0.18601173],\n",
       "       [0.92412136, 0.46969864, 0.2755424 , 0.99201301, 0.99857492],\n",
       "       [0.41699626, 0.25039897, 0.03745115, 0.18041594, 0.57253621]])"
      ]
     },
     "execution_count": 34,
     "metadata": {},
     "output_type": "execute_result"
    }
   ],
   "source": [
    "# To generate random numbers in 3x5 array format\n",
    "np.random.rand(3,5)"
   ]
  },
  {
   "cell_type": "code",
   "execution_count": 35,
   "id": "a0f4ea37-7c25-460b-9c76-004e022cd0fd",
   "metadata": {},
   "outputs": [
    {
     "data": {
      "text/plain": [
       "3.1364101335643215"
      ]
     },
     "execution_count": 35,
     "metadata": {},
     "output_type": "execute_result"
    }
   ],
   "source": [
    "np.random.randn()"
   ]
  },
  {
   "cell_type": "code",
   "execution_count": 36,
   "id": "81d5169d-ebe3-4636-b21a-012cb854e008",
   "metadata": {},
   "outputs": [
    {
     "data": {
      "text/plain": [
       "array([[-0.94674748,  0.57982342,  0.82603621, -1.32294965, -1.06568916],\n",
       "       [-0.57034977, -1.41563032, -0.26262824, -0.73798919, -0.0082135 ],\n",
       "       [-1.39675675,  0.6243449 ,  1.27253393,  0.8591462 ,  0.06165553]])"
      ]
     },
     "execution_count": 36,
     "metadata": {},
     "output_type": "execute_result"
    }
   ],
   "source": [
    "np.random.randn(3, 5)"
   ]
  },
  {
   "cell_type": "code",
   "execution_count": 37,
   "id": "a6babace-3330-4f41-9f18-aa435d44741c",
   "metadata": {},
   "outputs": [
    {
     "data": {
      "text/plain": [
       "2"
      ]
     },
     "execution_count": 37,
     "metadata": {},
     "output_type": "execute_result"
    }
   ],
   "source": [
    "# Generate a random integer between 1 & 10\n",
    "np.random.randint(10)"
   ]
  },
  {
   "cell_type": "code",
   "execution_count": 38,
   "id": "54622120-4a18-45e9-8e8a-d78aba367f7c",
   "metadata": {},
   "outputs": [
    {
     "data": {
      "text/plain": [
       "26"
      ]
     },
     "execution_count": 38,
     "metadata": {},
     "output_type": "execute_result"
    }
   ],
   "source": [
    "# Generate a random integer between 20 and 40\n",
    "np.random.randint(20, 40)"
   ]
  },
  {
   "cell_type": "code",
   "execution_count": 39,
   "id": "4b978cd7-07db-4c33-b662-cb32bcfaac87",
   "metadata": {},
   "outputs": [
    {
     "data": {
      "text/plain": [
       "array([34, 37, 20, 26, 38])"
      ]
     },
     "execution_count": 39,
     "metadata": {},
     "output_type": "execute_result"
    }
   ],
   "source": [
    "# Generate 5 random integers between 20 and 40\n",
    "np.random.randint(20, 40, 5)"
   ]
  },
  {
   "cell_type": "code",
   "execution_count": 40,
   "id": "cbed3a26-59ae-4d90-aeb0-fb3e38ebc923",
   "metadata": {},
   "outputs": [
    {
     "name": "stdout",
     "output_type": "stream",
     "text": [
      "[2 4 5 8]\n"
     ]
    }
   ],
   "source": [
    "print(arr)"
   ]
  },
  {
   "cell_type": "code",
   "execution_count": 41,
   "id": "3b4007b1-7abf-4df8-ab43-71cc09c6d5dd",
   "metadata": {},
   "outputs": [
    {
     "data": {
      "text/plain": [
       "4"
      ]
     },
     "execution_count": 41,
     "metadata": {},
     "output_type": "execute_result"
    }
   ],
   "source": [
    "# Generate a random number from an array\n",
    "np.random.choice(arr)"
   ]
  },
  {
   "cell_type": "code",
   "execution_count": 42,
   "id": "079d583a-c337-40e3-b923-4daad161d6a3",
   "metadata": {},
   "outputs": [
    {
     "data": {
      "text/plain": [
       "4"
      ]
     },
     "execution_count": 42,
     "metadata": {},
     "output_type": "execute_result"
    }
   ],
   "source": [
    "# Generate a random number from a list\n",
    "np.random.choice([1, 2, 3, 4])"
   ]
  },
  {
   "cell_type": "code",
   "execution_count": 43,
   "id": "397a67f6-0737-4e17-8ff2-bcafd235bf10",
   "metadata": {},
   "outputs": [
    {
     "data": {
      "text/plain": [
       "array([[1, 1, 4, 3],\n",
       "       [1, 1, 2, 1]])"
      ]
     },
     "execution_count": 43,
     "metadata": {},
     "output_type": "execute_result"
    }
   ],
   "source": [
    "# Generate 2x4 matrix of random values from a list\n",
    "np.random.choice([1, 2, 3, 4], size=(2, 4))"
   ]
  },
  {
   "cell_type": "markdown",
   "id": "16cbd3d3-42d9-4fda-83a8-e8c319445571",
   "metadata": {},
   "source": [
    "### PANDAS"
   ]
  },
  {
   "cell_type": "code",
   "execution_count": 10,
   "id": "7f6b9ca4-b18a-4fbf-9f28-79ddee02776d",
   "metadata": {},
   "outputs": [
    {
     "name": "stdout",
     "output_type": "stream",
     "text": [
      "Defaulting to user installation because normal site-packages is not writeable\n",
      "Requirement already satisfied: pandas in c:\\users\\pc\\appdata\\roaming\\python\\python312\\site-packages (2.1.4)\n",
      "Requirement already satisfied: numpy<2,>=1.26.0 in c:\\users\\pc\\appdata\\roaming\\python\\python312\\site-packages (from pandas) (1.26.1)\n",
      "Requirement already satisfied: python-dateutil>=2.8.2 in c:\\users\\pc\\appdata\\roaming\\python\\python312\\site-packages (from pandas) (2.8.2)\n",
      "Requirement already satisfied: pytz>=2020.1 in c:\\users\\pc\\appdata\\roaming\\python\\python312\\site-packages (from pandas) (2023.3.post1)\n",
      "Requirement already satisfied: tzdata>=2022.1 in c:\\users\\pc\\appdata\\roaming\\python\\python312\\site-packages (from pandas) (2023.3)\n",
      "Requirement already satisfied: six>=1.5 in c:\\users\\pc\\appdata\\roaming\\python\\python312\\site-packages (from python-dateutil>=2.8.2->pandas) (1.16.0)\n"
     ]
    }
   ],
   "source": [
    "# To Install Pandas\n",
    "!pip install pandas"
   ]
  },
  {
   "cell_type": "code",
   "execution_count": 11,
   "id": "ab7cc047-a1e5-4438-82f4-cd74b4b1e621",
   "metadata": {},
   "outputs": [],
   "source": [
    "import pandas as pd"
   ]
  },
  {
   "cell_type": "code",
   "execution_count": 44,
   "id": "7d4b566a-e0a6-4e8a-8e49-461cc91a263b",
   "metadata": {},
   "outputs": [
    {
     "data": {
      "text/plain": [
       "0     2\n",
       "1     4\n",
       "2     6\n",
       "3     8\n",
       "4    10\n",
       "5    12\n",
       "6    14\n",
       "7    16\n",
       "dtype: int64"
      ]
     },
     "execution_count": 44,
     "metadata": {},
     "output_type": "execute_result"
    }
   ],
   "source": [
    "data = pd.Series([2,4,6,8,10,12,14,16])\n",
    "data"
   ]
  },
  {
   "cell_type": "code",
   "execution_count": 45,
   "id": "e0ba61ff-ba60-4b30-9976-f0a35ca4c24e",
   "metadata": {},
   "outputs": [
    {
     "data": {
      "text/plain": [
       "pandas.core.series.Series"
      ]
     },
     "execution_count": 45,
     "metadata": {},
     "output_type": "execute_result"
    }
   ],
   "source": [
    "type(data)"
   ]
  },
  {
   "cell_type": "code",
   "execution_count": 46,
   "id": "94d1186a-6049-4c12-8a0d-8861e121cc87",
   "metadata": {},
   "outputs": [
    {
     "data": {
      "text/plain": [
       "array([ 2,  4,  6,  8, 10, 12, 14, 16], dtype=int64)"
      ]
     },
     "execution_count": 46,
     "metadata": {},
     "output_type": "execute_result"
    }
   ],
   "source": [
    "data.values"
   ]
  },
  {
   "cell_type": "code",
   "execution_count": 47,
   "id": "8f418b0a-5e7b-4bb0-8fd2-1aaddc174dba",
   "metadata": {},
   "outputs": [
    {
     "data": {
      "text/plain": [
       "RangeIndex(start=0, stop=8, step=1)"
      ]
     },
     "execution_count": 47,
     "metadata": {},
     "output_type": "execute_result"
    }
   ],
   "source": [
    "data.index"
   ]
  },
  {
   "cell_type": "code",
   "execution_count": 48,
   "id": "07e2d654-5e21-4657-a7ce-c8878d19c073",
   "metadata": {},
   "outputs": [
    {
     "name": "stdout",
     "output_type": "stream",
     "text": [
      "[2 4 5 8]\n"
     ]
    }
   ],
   "source": [
    "print(arr)"
   ]
  },
  {
   "cell_type": "code",
   "execution_count": 51,
   "id": "14eebe98-c8f6-4cb5-aa2f-7ed800f97124",
   "metadata": {},
   "outputs": [
    {
     "name": "stdout",
     "output_type": "stream",
     "text": [
      "<class 'numpy.ndarray'>\n"
     ]
    }
   ],
   "source": [
    "print(type(arr))"
   ]
  },
  {
   "cell_type": "code",
   "execution_count": 52,
   "id": "46f53215-96ac-41c0-847c-19979d1c7850",
   "metadata": {},
   "outputs": [
    {
     "name": "stdout",
     "output_type": "stream",
     "text": [
      "<class 'pandas.core.series.Series'>\n",
      "0    2\n",
      "1    4\n",
      "2    5\n",
      "3    8\n",
      "dtype: int32\n"
     ]
    }
   ],
   "source": [
    "ser = pd.Series(arr)\n",
    "print(type(ser))\n",
    "print(ser)"
   ]
  },
  {
   "cell_type": "code",
   "execution_count": 53,
   "id": "880cbc5c-aef9-4143-ab38-013140a6ef40",
   "metadata": {},
   "outputs": [
    {
     "name": "stdout",
     "output_type": "stream",
     "text": [
      "a    1\n",
      "b    2\n",
      "c    3\n",
      "d    4\n",
      "e    5\n",
      "f    6\n",
      "g    7\n",
      "h    8\n",
      "dtype: int64\n"
     ]
    }
   ],
   "source": [
    "data1 = pd.Series( [1,2,3,4,5,6,7,8], index = ['a','b','c','d','e','f','g','h'] )\n",
    "print(data1)"
   ]
  },
  {
   "cell_type": "code",
   "execution_count": 54,
   "id": "8db8b7f7-aac9-4882-b907-c6c4c82773b3",
   "metadata": {},
   "outputs": [
    {
     "data": {
      "text/plain": [
       "3"
      ]
     },
     "execution_count": 54,
     "metadata": {},
     "output_type": "execute_result"
    }
   ],
   "source": [
    "data1['c']"
   ]
  },
  {
   "cell_type": "code",
   "execution_count": 55,
   "id": "ba6fbdef-dca6-43e3-b67d-65c4b1d5455c",
   "metadata": {},
   "outputs": [
    {
     "name": "stderr",
     "output_type": "stream",
     "text": [
      "C:\\Users\\Pc\\AppData\\Local\\Temp\\ipykernel_12600\\3899140294.py:1: FutureWarning: Series.__getitem__ treating keys as positions is deprecated. In a future version, integer keys will always be treated as labels (consistent with DataFrame behavior). To access a value by position, use `ser.iloc[pos]`\n",
      "  data1[2]\n"
     ]
    },
    {
     "data": {
      "text/plain": [
       "3"
      ]
     },
     "execution_count": 55,
     "metadata": {},
     "output_type": "execute_result"
    }
   ],
   "source": [
    "data1[2]"
   ]
  },
  {
   "cell_type": "code",
   "execution_count": 56,
   "id": "ebd9abcc-7590-44eb-8b74-b56b8821caa3",
   "metadata": {},
   "outputs": [
    {
     "name": "stdout",
     "output_type": "stream",
     "text": [
      "<class 'dict'>\n",
      "{'The Kashmir Files': 20.0, 'Kantara': 7.5, 'KGF Chapter 2': 90.0, 'RRR': 130.0}\n"
     ]
    }
   ],
   "source": [
    "movies_dict = {'The Kashmir Files':20.00, 'Kantara':7.50, 'KGF Chapter 2':90.00, 'RRR':130.00}\n",
    "print(type(movies_dict))\n",
    "print(movies_dict)"
   ]
  },
  {
   "cell_type": "code",
   "execution_count": 57,
   "id": "115d33f2-833a-4902-8e5a-c69f1a80c93f",
   "metadata": {},
   "outputs": [
    {
     "name": "stdout",
     "output_type": "stream",
     "text": [
      "<class 'pandas.core.series.Series'>\n",
      "The Kashmir Files     20.0\n",
      "Kantara                7.5\n",
      "KGF Chapter 2         90.0\n",
      "RRR                  130.0\n",
      "dtype: float64\n"
     ]
    }
   ],
   "source": [
    "movies = pd.Series(movies_dict)\n",
    "print(type(movies))\n",
    "print(movies)"
   ]
  },
  {
   "cell_type": "code",
   "execution_count": 58,
   "id": "68e19401-3c67-4773-bd75-352b90e84566",
   "metadata": {},
   "outputs": [
    {
     "data": {
      "text/plain": [
       "7.5"
      ]
     },
     "execution_count": 58,
     "metadata": {},
     "output_type": "execute_result"
    }
   ],
   "source": [
    "movies['Kantara']"
   ]
  },
  {
   "cell_type": "code",
   "execution_count": 59,
   "id": "7219d0ab-c2db-4c53-9071-091e96aac6c2",
   "metadata": {},
   "outputs": [
    {
     "data": {
      "text/plain": [
       "Kantara            7.5\n",
       "KGF Chapter 2     90.0\n",
       "RRR              130.0\n",
       "dtype: float64"
      ]
     },
     "execution_count": 59,
     "metadata": {},
     "output_type": "execute_result"
    }
   ],
   "source": [
    "movies['Kantara':'RRR']"
   ]
  },
  {
   "cell_type": "code",
   "execution_count": 60,
   "id": "7777e62e-7352-40d4-ac45-14f347b18317",
   "metadata": {},
   "outputs": [
    {
     "name": "stdout",
     "output_type": "stream",
     "text": [
      "<class 'pandas.core.series.Series'>\n",
      "The Kashmir Files     20.0\n",
      "Kantara                7.5\n",
      "KGF Chapter 2         90.0\n",
      "RRR                  130.0\n",
      "dtype: float64\n"
     ]
    }
   ],
   "source": [
    "movies_profit = {'The Kashmir Files':252.00, 'Kantara':81.10, 'KGF Chapter 2':434.62, 'RRR':277.00}\n",
    "print(type(movies))\n",
    "print(movies)"
   ]
  },
  {
   "cell_type": "code",
   "execution_count": 61,
   "id": "12174a6f-5f15-44ac-8a81-dba67afd75fc",
   "metadata": {},
   "outputs": [
    {
     "name": "stdout",
     "output_type": "stream",
     "text": [
      "<class 'pandas.core.series.Series'>\n",
      "The Kashmir Files    252.00\n",
      "Kantara               81.10\n",
      "KGF Chapter 2        434.62\n",
      "RRR                  277.00\n",
      "dtype: float64\n"
     ]
    }
   ],
   "source": [
    "profit = pd.Series(movies_profit)\n",
    "print(type(profit))\n",
    "print(profit)"
   ]
  },
  {
   "cell_type": "markdown",
   "id": "f82e114e-e197-4777-8067-2447402239b5",
   "metadata": {},
   "source": [
    "### Pandas DataFrame"
   ]
  },
  {
   "cell_type": "code",
   "execution_count": 62,
   "id": "4b739ac4-84a0-4e8d-acf1-bd8412c44d4a",
   "metadata": {},
   "outputs": [
    {
     "name": "stdout",
     "output_type": "stream",
     "text": [
      "                   Budget  Profit\n",
      "The Kashmir Files    20.0  252.00\n",
      "Kantara               7.5   81.10\n",
      "KGF Chapter 2        90.0  434.62\n",
      "RRR                 130.0  277.00\n"
     ]
    }
   ],
   "source": [
    "movies_db = pd.DataFrame({'Budget':movies, 'Profit':profit})\n",
    "print(movies_db)"
   ]
  },
  {
   "cell_type": "code",
   "execution_count": 63,
   "id": "171f0148-4155-4526-a0f4-485e1f2e34e5",
   "metadata": {},
   "outputs": [
    {
     "data": {
      "text/plain": [
       "Index(['Budget', 'Profit'], dtype='object')"
      ]
     },
     "execution_count": 63,
     "metadata": {},
     "output_type": "execute_result"
    }
   ],
   "source": [
    "movies_db.columns"
   ]
  },
  {
   "cell_type": "code",
   "execution_count": 64,
   "id": "a1329ef5-560f-473b-bb24-3c2233b24a80",
   "metadata": {},
   "outputs": [
    {
     "data": {
      "text/plain": [
       "Index(['The Kashmir Files', 'Kantara', 'KGF Chapter 2', 'RRR'], dtype='object')"
      ]
     },
     "execution_count": 64,
     "metadata": {},
     "output_type": "execute_result"
    }
   ],
   "source": [
    "movies_db.index"
   ]
  },
  {
   "cell_type": "code",
   "execution_count": 65,
   "id": "d0812a95-cc67-495a-a86d-172d364da27b",
   "metadata": {},
   "outputs": [
    {
     "data": {
      "text/plain": [
       "Budget    4\n",
       "Profit    4\n",
       "dtype: int64"
      ]
     },
     "execution_count": 65,
     "metadata": {},
     "output_type": "execute_result"
    }
   ],
   "source": [
    "movies_db.count()"
   ]
  },
  {
   "cell_type": "code",
   "execution_count": 66,
   "id": "4831c852-ee7b-4064-a0fc-77581a62d0c2",
   "metadata": {},
   "outputs": [
    {
     "data": {
      "text/plain": [
       "Budget     247.50\n",
       "Profit    1044.72\n",
       "dtype: float64"
      ]
     },
     "execution_count": 66,
     "metadata": {},
     "output_type": "execute_result"
    }
   ],
   "source": [
    "movies_db.sum()"
   ]
  },
  {
   "cell_type": "code",
   "execution_count": 67,
   "id": "d78636b8-8f12-4ab2-878c-79af65c1ab05",
   "metadata": {},
   "outputs": [
    {
     "data": {
      "text/plain": [
       "Budget     61.875\n",
       "Profit    261.180\n",
       "dtype: float64"
      ]
     },
     "execution_count": 67,
     "metadata": {},
     "output_type": "execute_result"
    }
   ],
   "source": [
    "movies_db.mean()"
   ]
  },
  {
   "cell_type": "code",
   "execution_count": 68,
   "id": "a524acff-c987-443d-b77c-92b8a48abde4",
   "metadata": {},
   "outputs": [
    {
     "data": {
      "text/plain": [
       "Budget     55.0\n",
       "Profit    264.5\n",
       "dtype: float64"
      ]
     },
     "execution_count": 68,
     "metadata": {},
     "output_type": "execute_result"
    }
   ],
   "source": [
    "movies_db.median()"
   ]
  },
  {
   "cell_type": "code",
   "execution_count": 69,
   "id": "0f08b119-084c-47c4-8fd3-76dbf3dc567f",
   "metadata": {},
   "outputs": [
    {
     "data": {
      "text/plain": [
       "Budget     58.144038\n",
       "Profit    144.735143\n",
       "dtype: float64"
      ]
     },
     "execution_count": 69,
     "metadata": {},
     "output_type": "execute_result"
    }
   ],
   "source": [
    "movies_db.std()"
   ]
  },
  {
   "cell_type": "code",
   "execution_count": 70,
   "id": "ad72e2a3-ff29-42be-b7f8-43363890ea11",
   "metadata": {},
   "outputs": [
    {
     "data": {
      "text/plain": [
       "Budget     7.5\n",
       "Profit    81.1\n",
       "dtype: float64"
      ]
     },
     "execution_count": 70,
     "metadata": {},
     "output_type": "execute_result"
    }
   ],
   "source": [
    "movies_db.min()"
   ]
  },
  {
   "cell_type": "code",
   "execution_count": 71,
   "id": "eea512d0-68c6-4a56-9a8d-88ad0a54a7fc",
   "metadata": {},
   "outputs": [
    {
     "data": {
      "text/plain": [
       "Budget    130.00\n",
       "Profit    434.62\n",
       "dtype: float64"
      ]
     },
     "execution_count": 71,
     "metadata": {},
     "output_type": "execute_result"
    }
   ],
   "source": [
    "movies_db.max()"
   ]
  },
  {
   "cell_type": "code",
   "execution_count": 72,
   "id": "8b115342-6f7b-4398-8d88-743bf0ed51d6",
   "metadata": {},
   "outputs": [
    {
     "name": "stdout",
     "output_type": "stream",
     "text": [
      "<class 'pandas.core.frame.DataFrame'>\n",
      "Index: 4 entries, The Kashmir Files to RRR\n",
      "Data columns (total 2 columns):\n",
      " #   Column  Non-Null Count  Dtype  \n",
      "---  ------  --------------  -----  \n",
      " 0   Budget  4 non-null      float64\n",
      " 1   Profit  4 non-null      float64\n",
      "dtypes: float64(2)\n",
      "memory usage: 268.0+ bytes\n"
     ]
    }
   ],
   "source": [
    "movies_db.info()"
   ]
  },
  {
   "cell_type": "code",
   "execution_count": 73,
   "id": "9d4368e6-ada5-432d-9ffb-2b13f25a79ac",
   "metadata": {},
   "outputs": [
    {
     "data": {
      "text/html": [
       "<div>\n",
       "<style scoped>\n",
       "    .dataframe tbody tr th:only-of-type {\n",
       "        vertical-align: middle;\n",
       "    }\n",
       "\n",
       "    .dataframe tbody tr th {\n",
       "        vertical-align: top;\n",
       "    }\n",
       "\n",
       "    .dataframe thead th {\n",
       "        text-align: right;\n",
       "    }\n",
       "</style>\n",
       "<table border=\"1\" class=\"dataframe\">\n",
       "  <thead>\n",
       "    <tr style=\"text-align: right;\">\n",
       "      <th></th>\n",
       "      <th>Budget</th>\n",
       "      <th>Profit</th>\n",
       "    </tr>\n",
       "  </thead>\n",
       "  <tbody>\n",
       "    <tr>\n",
       "      <th>count</th>\n",
       "      <td>4.000000</td>\n",
       "      <td>4.000000</td>\n",
       "    </tr>\n",
       "    <tr>\n",
       "      <th>mean</th>\n",
       "      <td>61.875000</td>\n",
       "      <td>261.180000</td>\n",
       "    </tr>\n",
       "    <tr>\n",
       "      <th>std</th>\n",
       "      <td>58.144038</td>\n",
       "      <td>144.735143</td>\n",
       "    </tr>\n",
       "    <tr>\n",
       "      <th>min</th>\n",
       "      <td>7.500000</td>\n",
       "      <td>81.100000</td>\n",
       "    </tr>\n",
       "    <tr>\n",
       "      <th>25%</th>\n",
       "      <td>16.875000</td>\n",
       "      <td>209.275000</td>\n",
       "    </tr>\n",
       "    <tr>\n",
       "      <th>50%</th>\n",
       "      <td>55.000000</td>\n",
       "      <td>264.500000</td>\n",
       "    </tr>\n",
       "    <tr>\n",
       "      <th>75%</th>\n",
       "      <td>100.000000</td>\n",
       "      <td>316.405000</td>\n",
       "    </tr>\n",
       "    <tr>\n",
       "      <th>max</th>\n",
       "      <td>130.000000</td>\n",
       "      <td>434.620000</td>\n",
       "    </tr>\n",
       "  </tbody>\n",
       "</table>\n",
       "</div>"
      ],
      "text/plain": [
       "           Budget      Profit\n",
       "count    4.000000    4.000000\n",
       "mean    61.875000  261.180000\n",
       "std     58.144038  144.735143\n",
       "min      7.500000   81.100000\n",
       "25%     16.875000  209.275000\n",
       "50%     55.000000  264.500000\n",
       "75%    100.000000  316.405000\n",
       "max    130.000000  434.620000"
      ]
     },
     "execution_count": 73,
     "metadata": {},
     "output_type": "execute_result"
    }
   ],
   "source": [
    "movies_db.describe()"
   ]
  },
  {
   "cell_type": "code",
   "execution_count": 74,
   "id": "7fd16b9d-a8f6-40fa-ac61-9ffcf335c544",
   "metadata": {},
   "outputs": [],
   "source": [
    "movies_db.to_csv('movies.csv')"
   ]
  },
  {
   "cell_type": "code",
   "execution_count": 75,
   "id": "bb80712b-5475-4802-afe4-b21afc28542c",
   "metadata": {},
   "outputs": [
    {
     "data": {
      "text/plain": [
       "'C:\\\\Users\\\\Pc\\\\Documents\\\\Chandrika\\\\Chapters\\\\CodeFiles'"
      ]
     },
     "execution_count": 75,
     "metadata": {},
     "output_type": "execute_result"
    }
   ],
   "source": [
    "import os\n",
    "os.getcwd()"
   ]
  },
  {
   "cell_type": "code",
   "execution_count": 76,
   "id": "184153f3-a0f8-40b7-8f1d-5650c81e77f6",
   "metadata": {},
   "outputs": [
    {
     "data": {
      "text/plain": [
       "['.ipynb_checkpoints',\n",
       " 'Chapter 10.ipynb',\n",
       " 'Chapter 12 CS1.ipynb',\n",
       " 'Chapter 12 CS2.ipynb',\n",
       " 'Chapter 4.ipynb',\n",
       " 'Chapter 5.ipynb',\n",
       " 'Chapter 6.ipynb',\n",
       " 'Chapter 7.ipynb',\n",
       " 'Chapter 8.ipynb',\n",
       " 'Chapter 9.ipynb',\n",
       " 'Files',\n",
       " 'module1.py',\n",
       " 'module2.py',\n",
       " 'movies.csv',\n",
       " 'MyTextFile.txt',\n",
       " '__pycache__']"
      ]
     },
     "execution_count": 76,
     "metadata": {},
     "output_type": "execute_result"
    }
   ],
   "source": [
    "os.listdir()"
   ]
  },
  {
   "cell_type": "code",
   "execution_count": 77,
   "id": "d118be09-d6c6-479a-a165-7b0097292be7",
   "metadata": {},
   "outputs": [
    {
     "data": {
      "text/html": [
       "<div>\n",
       "<style scoped>\n",
       "    .dataframe tbody tr th:only-of-type {\n",
       "        vertical-align: middle;\n",
       "    }\n",
       "\n",
       "    .dataframe tbody tr th {\n",
       "        vertical-align: top;\n",
       "    }\n",
       "\n",
       "    .dataframe thead th {\n",
       "        text-align: right;\n",
       "    }\n",
       "</style>\n",
       "<table border=\"1\" class=\"dataframe\">\n",
       "  <thead>\n",
       "    <tr style=\"text-align: right;\">\n",
       "      <th></th>\n",
       "      <th>Unnamed: 0</th>\n",
       "      <th>Budget</th>\n",
       "      <th>Profit</th>\n",
       "    </tr>\n",
       "  </thead>\n",
       "  <tbody>\n",
       "    <tr>\n",
       "      <th>0</th>\n",
       "      <td>The Kashmir Files</td>\n",
       "      <td>20.0</td>\n",
       "      <td>252.00</td>\n",
       "    </tr>\n",
       "    <tr>\n",
       "      <th>1</th>\n",
       "      <td>Kantara</td>\n",
       "      <td>7.5</td>\n",
       "      <td>81.10</td>\n",
       "    </tr>\n",
       "    <tr>\n",
       "      <th>2</th>\n",
       "      <td>KGF Chapter 2</td>\n",
       "      <td>90.0</td>\n",
       "      <td>434.62</td>\n",
       "    </tr>\n",
       "    <tr>\n",
       "      <th>3</th>\n",
       "      <td>RRR</td>\n",
       "      <td>130.0</td>\n",
       "      <td>277.00</td>\n",
       "    </tr>\n",
       "  </tbody>\n",
       "</table>\n",
       "</div>"
      ],
      "text/plain": [
       "          Unnamed: 0  Budget  Profit\n",
       "0  The Kashmir Files    20.0  252.00\n",
       "1            Kantara     7.5   81.10\n",
       "2      KGF Chapter 2    90.0  434.62\n",
       "3                RRR   130.0  277.00"
      ]
     },
     "execution_count": 77,
     "metadata": {},
     "output_type": "execute_result"
    }
   ],
   "source": [
    "df = pd.read_csv('movies.csv')\n",
    "df"
   ]
  },
  {
   "cell_type": "code",
   "execution_count": 78,
   "id": "238c1e8f-1c99-43ac-a293-7b9cc0d1a80b",
   "metadata": {},
   "outputs": [
    {
     "data": {
      "text/html": [
       "<div>\n",
       "<style scoped>\n",
       "    .dataframe tbody tr th:only-of-type {\n",
       "        vertical-align: middle;\n",
       "    }\n",
       "\n",
       "    .dataframe tbody tr th {\n",
       "        vertical-align: top;\n",
       "    }\n",
       "\n",
       "    .dataframe thead th {\n",
       "        text-align: right;\n",
       "    }\n",
       "</style>\n",
       "<table border=\"1\" class=\"dataframe\">\n",
       "  <thead>\n",
       "    <tr style=\"text-align: right;\">\n",
       "      <th></th>\n",
       "      <th>Movie</th>\n",
       "      <th>Budget</th>\n",
       "      <th>Profit</th>\n",
       "    </tr>\n",
       "  </thead>\n",
       "  <tbody>\n",
       "    <tr>\n",
       "      <th>0</th>\n",
       "      <td>The Kashmir Files</td>\n",
       "      <td>20.0</td>\n",
       "      <td>252.00</td>\n",
       "    </tr>\n",
       "    <tr>\n",
       "      <th>1</th>\n",
       "      <td>Kantara</td>\n",
       "      <td>7.5</td>\n",
       "      <td>81.10</td>\n",
       "    </tr>\n",
       "    <tr>\n",
       "      <th>2</th>\n",
       "      <td>KGF Chapter 2</td>\n",
       "      <td>90.0</td>\n",
       "      <td>434.62</td>\n",
       "    </tr>\n",
       "    <tr>\n",
       "      <th>3</th>\n",
       "      <td>RRR</td>\n",
       "      <td>130.0</td>\n",
       "      <td>277.00</td>\n",
       "    </tr>\n",
       "  </tbody>\n",
       "</table>\n",
       "</div>"
      ],
      "text/plain": [
       "               Movie  Budget  Profit\n",
       "0  The Kashmir Files    20.0  252.00\n",
       "1            Kantara     7.5   81.10\n",
       "2      KGF Chapter 2    90.0  434.62\n",
       "3                RRR   130.0  277.00"
      ]
     },
     "execution_count": 78,
     "metadata": {},
     "output_type": "execute_result"
    }
   ],
   "source": [
    "df.rename(columns={'Unnamed: 0': 'Movie'}, inplace=True)\n",
    "df"
   ]
  },
  {
   "cell_type": "markdown",
   "id": "8f91b8ab-2e8b-431d-abe2-01557004ec1a",
   "metadata": {},
   "source": [
    "### Pandas Indexing"
   ]
  },
  {
   "cell_type": "code",
   "execution_count": 79,
   "id": "ad01e4f4-fa8c-4a8d-a233-bec41521bbda",
   "metadata": {},
   "outputs": [
    {
     "name": "stdout",
     "output_type": "stream",
     "text": [
      "<class 'pandas.core.series.Series'>\n",
      "1    a\n",
      "2    b\n",
      "3    c\n",
      "4    d\n",
      "5    e\n",
      "6    f\n",
      "7    g\n",
      "8    h\n",
      "dtype: object\n"
     ]
    }
   ],
   "source": [
    "S = pd.Series( ['a','b','c','d','e','f','g','h'], index=[1,2,3,4,5,6,7,8] )\n",
    "print(type(S))\n",
    "print(S)"
   ]
  },
  {
   "cell_type": "code",
   "execution_count": 80,
   "id": "c734a3c6-bfe7-4a65-904a-dffcad6bfc49",
   "metadata": {},
   "outputs": [
    {
     "data": {
      "text/plain": [
       "2    b\n",
       "3    c\n",
       "dtype: object"
      ]
     },
     "execution_count": 80,
     "metadata": {},
     "output_type": "execute_result"
    }
   ],
   "source": [
    "S[1:3]"
   ]
  },
  {
   "cell_type": "code",
   "execution_count": 81,
   "id": "d309490e-c82c-436a-bcdb-a14457004890",
   "metadata": {},
   "outputs": [
    {
     "data": {
      "text/plain": [
       "2    b\n",
       "3    c\n",
       "dtype: object"
      ]
     },
     "execution_count": 81,
     "metadata": {},
     "output_type": "execute_result"
    }
   ],
   "source": [
    "# integral index\n",
    "S.iloc[1:3]"
   ]
  },
  {
   "cell_type": "code",
   "execution_count": 82,
   "id": "91ba95dd-a7cd-4a93-9c09-08c285181404",
   "metadata": {},
   "outputs": [
    {
     "data": {
      "text/plain": [
       "1    a\n",
       "2    b\n",
       "3    c\n",
       "dtype: object"
      ]
     },
     "execution_count": 82,
     "metadata": {},
     "output_type": "execute_result"
    }
   ],
   "source": [
    "# user defined index\n",
    "S.loc[1:3]"
   ]
  },
  {
   "cell_type": "markdown",
   "id": "e4f70d39-d806-4831-8f85-e3fe376d8e87",
   "metadata": {},
   "source": [
    "### Data Preprocessing Techniques"
   ]
  },
  {
   "cell_type": "code",
   "execution_count": 83,
   "id": "37594b98-2739-4349-8812-3e7adb4d82dc",
   "metadata": {},
   "outputs": [
    {
     "data": {
      "text/plain": [
       "array([1, 3, None, 4], dtype=object)"
      ]
     },
     "execution_count": 83,
     "metadata": {},
     "output_type": "execute_result"
    }
   ],
   "source": [
    "var1 = np.array([1, 3, None, 4])\n",
    "var1"
   ]
  },
  {
   "cell_type": "code",
   "execution_count": 84,
   "id": "fd07a30c-def8-47a5-86ce-577e9f0acbd1",
   "metadata": {},
   "outputs": [
    {
     "ename": "TypeError",
     "evalue": "unsupported operand type(s) for +: 'int' and 'NoneType'",
     "output_type": "error",
     "traceback": [
      "\u001b[1;31m---------------------------------------------------------------------------\u001b[0m",
      "\u001b[1;31mTypeError\u001b[0m                                 Traceback (most recent call last)",
      "Cell \u001b[1;32mIn[84], line 1\u001b[0m\n\u001b[1;32m----> 1\u001b[0m \u001b[43mvar1\u001b[49m\u001b[38;5;241;43m.\u001b[39;49m\u001b[43msum\u001b[49m\u001b[43m(\u001b[49m\u001b[43m)\u001b[49m\n",
      "File \u001b[1;32m~\\AppData\\Roaming\\Python\\Python312\\site-packages\\numpy\\core\\_methods.py:49\u001b[0m, in \u001b[0;36m_sum\u001b[1;34m(a, axis, dtype, out, keepdims, initial, where)\u001b[0m\n\u001b[0;32m     47\u001b[0m \u001b[38;5;28;01mdef\u001b[39;00m \u001b[38;5;21m_sum\u001b[39m(a, axis\u001b[38;5;241m=\u001b[39m\u001b[38;5;28;01mNone\u001b[39;00m, dtype\u001b[38;5;241m=\u001b[39m\u001b[38;5;28;01mNone\u001b[39;00m, out\u001b[38;5;241m=\u001b[39m\u001b[38;5;28;01mNone\u001b[39;00m, keepdims\u001b[38;5;241m=\u001b[39m\u001b[38;5;28;01mFalse\u001b[39;00m,\n\u001b[0;32m     48\u001b[0m          initial\u001b[38;5;241m=\u001b[39m_NoValue, where\u001b[38;5;241m=\u001b[39m\u001b[38;5;28;01mTrue\u001b[39;00m):\n\u001b[1;32m---> 49\u001b[0m     \u001b[38;5;28;01mreturn\u001b[39;00m \u001b[43mumr_sum\u001b[49m\u001b[43m(\u001b[49m\u001b[43ma\u001b[49m\u001b[43m,\u001b[49m\u001b[43m \u001b[49m\u001b[43maxis\u001b[49m\u001b[43m,\u001b[49m\u001b[43m \u001b[49m\u001b[43mdtype\u001b[49m\u001b[43m,\u001b[49m\u001b[43m \u001b[49m\u001b[43mout\u001b[49m\u001b[43m,\u001b[49m\u001b[43m \u001b[49m\u001b[43mkeepdims\u001b[49m\u001b[43m,\u001b[49m\u001b[43m \u001b[49m\u001b[43minitial\u001b[49m\u001b[43m,\u001b[49m\u001b[43m \u001b[49m\u001b[43mwhere\u001b[49m\u001b[43m)\u001b[49m\n",
      "\u001b[1;31mTypeError\u001b[0m: unsupported operand type(s) for +: 'int' and 'NoneType'"
     ]
    }
   ],
   "source": [
    "var1.sum()"
   ]
  },
  {
   "cell_type": "code",
   "execution_count": 85,
   "id": "7588c870-b5e5-4264-b4df-608161eb71a7",
   "metadata": {},
   "outputs": [
    {
     "data": {
      "text/plain": [
       "float"
      ]
     },
     "execution_count": 85,
     "metadata": {},
     "output_type": "execute_result"
    }
   ],
   "source": [
    "type(np.nan)"
   ]
  },
  {
   "cell_type": "code",
   "execution_count": 86,
   "id": "9584bbd3-b529-4806-b366-9cfda5d68ca6",
   "metadata": {},
   "outputs": [
    {
     "data": {
      "text/plain": [
       "array([ 1.,  3., nan,  4.])"
      ]
     },
     "execution_count": 86,
     "metadata": {},
     "output_type": "execute_result"
    }
   ],
   "source": [
    "var2 = np.array([1, 3, np.nan, 4])\n",
    "var2"
   ]
  },
  {
   "cell_type": "code",
   "execution_count": 87,
   "id": "12dba292-2bbd-4d35-868f-8c88ee152c87",
   "metadata": {},
   "outputs": [
    {
     "data": {
      "text/plain": [
       "nan"
      ]
     },
     "execution_count": 87,
     "metadata": {},
     "output_type": "execute_result"
    }
   ],
   "source": [
    "var2.sum()"
   ]
  },
  {
   "cell_type": "code",
   "execution_count": 88,
   "id": "d82ab594-01a6-44d9-986f-2cd8484541c7",
   "metadata": {},
   "outputs": [
    {
     "data": {
      "text/plain": [
       "nan"
      ]
     },
     "execution_count": 88,
     "metadata": {},
     "output_type": "execute_result"
    }
   ],
   "source": [
    "1 + np.nan"
   ]
  },
  {
   "cell_type": "code",
   "execution_count": 89,
   "id": "ad73fe4a-baf0-4f97-9343-a5277ca871db",
   "metadata": {},
   "outputs": [
    {
     "data": {
      "text/plain": [
       "nan"
      ]
     },
     "execution_count": 89,
     "metadata": {},
     "output_type": "execute_result"
    }
   ],
   "source": [
    "100 * np.nan"
   ]
  },
  {
   "cell_type": "code",
   "execution_count": 90,
   "id": "7e7f4e4e-33b8-484b-a4c0-f3d3dee0f6f3",
   "metadata": {},
   "outputs": [
    {
     "data": {
      "text/plain": [
       "nan"
      ]
     },
     "execution_count": 90,
     "metadata": {},
     "output_type": "execute_result"
    }
   ],
   "source": [
    "var2.max()"
   ]
  },
  {
   "cell_type": "code",
   "execution_count": 91,
   "id": "3f7d644e-e4f0-4084-927c-bc5653ae34f0",
   "metadata": {},
   "outputs": [
    {
     "data": {
      "text/plain": [
       "nan"
      ]
     },
     "execution_count": 91,
     "metadata": {},
     "output_type": "execute_result"
    }
   ],
   "source": [
    "var2.min()"
   ]
  },
  {
   "cell_type": "code",
   "execution_count": 92,
   "id": "3d7e938a-b254-4862-995b-8f5bd9f80e2c",
   "metadata": {},
   "outputs": [
    {
     "data": {
      "text/plain": [
       "8.0"
      ]
     },
     "execution_count": 92,
     "metadata": {},
     "output_type": "execute_result"
    }
   ],
   "source": [
    "np.nansum(var2)"
   ]
  },
  {
   "cell_type": "code",
   "execution_count": 93,
   "id": "b24d8f44-0b95-4721-bb2f-5e53e49b3faf",
   "metadata": {},
   "outputs": [
    {
     "data": {
      "text/plain": [
       "1.0"
      ]
     },
     "execution_count": 93,
     "metadata": {},
     "output_type": "execute_result"
    }
   ],
   "source": [
    "np.nanmin(var2)"
   ]
  },
  {
   "cell_type": "code",
   "execution_count": 94,
   "id": "389948a9-0458-4dd7-bcb5-5a7675b3adda",
   "metadata": {},
   "outputs": [
    {
     "data": {
      "text/plain": [
       "4.0"
      ]
     },
     "execution_count": 94,
     "metadata": {},
     "output_type": "execute_result"
    }
   ],
   "source": [
    "np.nanmax(var2)"
   ]
  },
  {
   "cell_type": "code",
   "execution_count": 95,
   "id": "39e37a34-f31d-4ec6-a92e-068bacdd490d",
   "metadata": {},
   "outputs": [
    {
     "data": {
      "text/plain": [
       "0    1.0\n",
       "1    NaN\n",
       "2    4.0\n",
       "3    NaN\n",
       "dtype: float64"
      ]
     },
     "execution_count": 95,
     "metadata": {},
     "output_type": "execute_result"
    }
   ],
   "source": [
    "ser1 = pd.Series([1, np.nan, 4, None])\n",
    "ser1"
   ]
  },
  {
   "cell_type": "code",
   "execution_count": 96,
   "id": "b40d444e-c688-4023-aaa7-44025a08ce26",
   "metadata": {},
   "outputs": [
    {
     "data": {
      "text/plain": [
       "0    False\n",
       "1     True\n",
       "2    False\n",
       "3     True\n",
       "dtype: bool"
      ]
     },
     "execution_count": 96,
     "metadata": {},
     "output_type": "execute_result"
    }
   ],
   "source": [
    "ser1.isnull()"
   ]
  },
  {
   "cell_type": "code",
   "execution_count": 97,
   "id": "cb7a97ca-e78e-4d86-ba24-e1351af2b3c9",
   "metadata": {},
   "outputs": [
    {
     "data": {
      "text/plain": [
       "2"
      ]
     },
     "execution_count": 97,
     "metadata": {},
     "output_type": "execute_result"
    }
   ],
   "source": [
    "ser1.isnull().sum()"
   ]
  },
  {
   "cell_type": "code",
   "execution_count": 98,
   "id": "f7f5d36d-3d4f-45cb-8a49-685392980340",
   "metadata": {},
   "outputs": [
    {
     "data": {
      "text/plain": [
       "0     True\n",
       "1    False\n",
       "2     True\n",
       "3    False\n",
       "dtype: bool"
      ]
     },
     "execution_count": 98,
     "metadata": {},
     "output_type": "execute_result"
    }
   ],
   "source": [
    "ser1.notnull()"
   ]
  },
  {
   "cell_type": "code",
   "execution_count": 99,
   "id": "3b6bd27e-db93-4822-8cdb-613a2d3d6559",
   "metadata": {},
   "outputs": [
    {
     "data": {
      "text/plain": [
       "2"
      ]
     },
     "execution_count": 99,
     "metadata": {},
     "output_type": "execute_result"
    }
   ],
   "source": [
    "ser1.notnull().sum()"
   ]
  },
  {
   "cell_type": "code",
   "execution_count": 100,
   "id": "f93a4109-35f0-4878-8be0-e5f4441a4e51",
   "metadata": {},
   "outputs": [
    {
     "name": "stdout",
     "output_type": "stream",
     "text": [
      "df:\n",
      "    Col 1  Col 2\n",
      "0    1.0    5.0\n",
      "1    2.0    NaN\n",
      "2    NaN    7.0\n",
      "3    4.0    NaN\n",
      "After fillna, df:\n",
      "    Col 1  Col 2\n",
      "0    1.0    5.0\n",
      "1    2.0    0.0\n",
      "2    0.0    7.0\n",
      "3    4.0    0.0\n"
     ]
    }
   ],
   "source": [
    "# create a sample DataFrame with missing values\n",
    "df = pd.DataFrame({'Col 1': [1, 2, None, 4], 'Col 2': [5, None, 7, None]})\n",
    "print(\"df:\\n\", df)\n",
    "\n",
    "# fill missing values with 0\n",
    "df.fillna(0, inplace=True)\n",
    "\n",
    "print(\"After fillna, df:\\n\", df)"
   ]
  },
  {
   "cell_type": "code",
   "execution_count": 101,
   "id": "2574cf77-5798-4268-b287-00891639b4d3",
   "metadata": {},
   "outputs": [
    {
     "name": "stdout",
     "output_type": "stream",
     "text": [
      "df:\n",
      "    Col 1  Col 2\n",
      "0    1.0    5.0\n",
      "1    2.0    NaN\n",
      "2    NaN    7.0\n",
      "3    4.0    NaN\n",
      "After dropna, df:\n",
      "    Col 1  Col 2\n",
      "0    1.0    5.0\n"
     ]
    }
   ],
   "source": [
    "# create a sample DataFrame with missing values\n",
    "df = pd.DataFrame({'Col 1': [1, 2, None, 4], 'Col 2': [5, None, 7, None]})\n",
    "print(\"df:\\n\", df)\n",
    "\n",
    "# drop rows with missing values\n",
    "df.dropna(inplace=True)\n",
    "\n",
    "print(\"After dropna, df:\\n\", df)"
   ]
  },
  {
   "cell_type": "code",
   "execution_count": 102,
   "id": "abd0ccf3-a023-4113-8f7b-0d41283c24c1",
   "metadata": {},
   "outputs": [
    {
     "name": "stdout",
     "output_type": "stream",
     "text": [
      "df:\n",
      "    Col 1  Col 2\n",
      "0    1.0    5.0\n",
      "1    2.0    NaN\n",
      "2    NaN    7.0\n",
      "3    4.0    NaN\n",
      "After interpolation, df: \n",
      "    Col 1  Col 2\n",
      "0    1.0    5.0\n",
      "1    2.0    6.0\n",
      "2    3.0    7.0\n",
      "3    4.0    7.0\n"
     ]
    }
   ],
   "source": [
    "# create a sample DataFrame with missing values\n",
    "df = pd.DataFrame({'Col 1': [1, 2, None, 4], 'Col 2': [5, None, 7, None]})\n",
    "print(\"df:\\n\", df)\n",
    "\n",
    "# fill missing values with linear interpolation\n",
    "df.interpolate(method='linear', inplace = True)\n",
    "\n",
    "print(\"After interpolation, df: \\n\", df)"
   ]
  },
  {
   "cell_type": "code",
   "execution_count": null,
   "id": "0c43a430-56cf-4410-a32e-9387db378d91",
   "metadata": {},
   "outputs": [],
   "source": []
  }
 ],
 "metadata": {
  "kernelspec": {
   "display_name": "Python 3 (ipykernel)",
   "language": "python",
   "name": "python3"
  },
  "language_info": {
   "codemirror_mode": {
    "name": "ipython",
    "version": 3
   },
   "file_extension": ".py",
   "mimetype": "text/x-python",
   "name": "python",
   "nbconvert_exporter": "python",
   "pygments_lexer": "ipython3",
   "version": "3.12.0"
  }
 },
 "nbformat": 4,
 "nbformat_minor": 5
}
