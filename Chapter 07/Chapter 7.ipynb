{
 "cells": [
  {
   "cell_type": "markdown",
   "id": "2df3c747-7787-48e7-933b-bd20960c88e4",
   "metadata": {},
   "source": [
    "# Chapter 7\n",
    "# Functions and Methods\n",
    "### funstions"
   ]
  },
  {
   "cell_type": "code",
   "execution_count": 1,
   "id": "e0ee9c0c-d588-4707-af0b-2e28a138d591",
   "metadata": {},
   "outputs": [],
   "source": [
    "def f():\n",
    "    print(var1)"
   ]
  },
  {
   "cell_type": "code",
   "execution_count": 2,
   "id": "381efabf-2724-4ac8-b9b7-46ba274751b8",
   "metadata": {},
   "outputs": [
    {
     "name": "stdin",
     "output_type": "stream",
     "text": [
      "Enter the value for var1:  4\n"
     ]
    },
    {
     "name": "stdout",
     "output_type": "stream",
     "text": [
      "Initial value of var1: \n",
      "4\n",
      "After squaring, the value of var1: \n",
      "16\n"
     ]
    }
   ],
   "source": [
    "var1 = int(input(\"Enter the value for var1: \"))\n",
    "print('Initial value of var1: ')\n",
    "f()\n",
    "var1 = var1 * var1\n",
    "print('After squaring, the value of var1: ')\n",
    "f()"
   ]
  },
  {
   "cell_type": "code",
   "execution_count": 3,
   "id": "63917e4b-8499-49ee-96fc-9a6d9c41ddc2",
   "metadata": {},
   "outputs": [],
   "source": [
    "def cart(item, price, quantity):\n",
    "    cost = price * quantity\n",
    "    if cost > 500:\n",
    "        shipping = 0\n",
    "    else:\n",
    "        shipping = 50\n",
    "    total = cost + shipping\n",
    "    return total"
   ]
  },
  {
   "cell_type": "code",
   "execution_count": 4,
   "id": "172e2305-718b-4b87-ab14-17905abee198",
   "metadata": {},
   "outputs": [
    {
     "name": "stdout",
     "output_type": "stream",
     "text": [
      "110\n"
     ]
    }
   ],
   "source": [
    "print(cart('Reynolds pen', 4, 15))"
   ]
  },
  {
   "cell_type": "code",
   "execution_count": 5,
   "id": "f24bdc18-37b0-4119-ade8-45d6617a4994",
   "metadata": {},
   "outputs": [
    {
     "name": "stdout",
     "output_type": "stream",
     "text": [
      "2500\n"
     ]
    }
   ],
   "source": [
    "print(cart('Butterflow', 100, 25))"
   ]
  },
  {
   "cell_type": "code",
   "execution_count": 6,
   "id": "b4fcaf73-47af-4bd5-8d49-1747f262c100",
   "metadata": {},
   "outputs": [
    {
     "name": "stdout",
     "output_type": "stream",
     "text": [
      "2500\n"
     ]
    }
   ],
   "source": [
    "print(cart(item = 'Butterflow', price = 100, quantity = 25))"
   ]
  },
  {
   "cell_type": "code",
   "execution_count": 7,
   "id": "36b15bdf-a1dc-4db6-b5e4-86331592ce08",
   "metadata": {},
   "outputs": [
    {
     "name": "stdout",
     "output_type": "stream",
     "text": [
      "2500\n"
     ]
    }
   ],
   "source": [
    "print(cart(quantity = 25, item = 'Butterflow', price = 100))"
   ]
  },
  {
   "cell_type": "code",
   "execution_count": 8,
   "id": "a0bc85ee-3f57-4a82-9a82-cd4fa93019ef",
   "metadata": {},
   "outputs": [],
   "source": [
    "def cart(item, price, quantity = 10):\n",
    "    cost = price * quantity\n",
    "    if cost > 500:\n",
    "        shipping = 0\n",
    "    else:\n",
    "        shipping = 50\n",
    "    total = cost + shipping\n",
    "    return total"
   ]
  },
  {
   "cell_type": "code",
   "execution_count": 9,
   "id": "ba44db82-fd28-4b64-8d5f-7a05a8779e6e",
   "metadata": {},
   "outputs": [
    {
     "name": "stdout",
     "output_type": "stream",
     "text": [
      "110\n"
     ]
    }
   ],
   "source": [
    "print(cart('Reynolds pen', 4, 15))"
   ]
  },
  {
   "cell_type": "code",
   "execution_count": 10,
   "id": "c26e4546-f65b-45f6-abf5-2a90c3c4e636",
   "metadata": {},
   "outputs": [
    {
     "name": "stdout",
     "output_type": "stream",
     "text": [
      "90\n"
     ]
    }
   ],
   "source": [
    "print(cart('Reynolds pen', 4)) # Quantity is not sent and it takes the default value, that is 10"
   ]
  },
  {
   "cell_type": "markdown",
   "id": "5603f8f7-cedd-41cd-bec8-252c171c9f8f",
   "metadata": {},
   "source": [
    "### Use of Docstring"
   ]
  },
  {
   "cell_type": "code",
   "execution_count": 11,
   "id": "f3a2cf6b-ff65-4702-a416-9a5f5605ab4a",
   "metadata": {},
   "outputs": [],
   "source": [
    "def square(var1):\n",
    "    ''' Returns the square of var1.\n",
    "\n",
    "        keyword arguments:\n",
    "            var1 -- value sent as argument\n",
    "    '''\n",
    "    sq = var1 * var1\n",
    "    return sq"
   ]
  },
  {
   "cell_type": "code",
   "execution_count": 12,
   "id": "c0b64b24-d8ad-4eee-b4af-f77312da3192",
   "metadata": {},
   "outputs": [
    {
     "data": {
      "text/plain": [
       "64"
      ]
     },
     "execution_count": 12,
     "metadata": {},
     "output_type": "execute_result"
    }
   ],
   "source": [
    "square(8)"
   ]
  },
  {
   "cell_type": "code",
   "execution_count": 13,
   "id": "bf450361-8202-417b-a3ba-f6ed139a3d34",
   "metadata": {},
   "outputs": [
    {
     "name": "stdout",
     "output_type": "stream",
     "text": [
      " Returns the square of var1.\n",
      "\n",
      "        keyword arguments:\n",
      "            var1 -- value sent as argument\n",
      "    \n"
     ]
    }
   ],
   "source": [
    "print(square.__doc__)"
   ]
  },
  {
   "cell_type": "code",
   "execution_count": 14,
   "id": "0382607b-1d56-4bef-848a-43270c3c907e",
   "metadata": {},
   "outputs": [
    {
     "name": "stdout",
     "output_type": "stream",
     "text": [
      "Help on function square in module __main__:\n",
      "\n",
      "square(var1)\n",
      "    Returns the square of var1.\n",
      "\n",
      "    keyword arguments:\n",
      "        var1 -- value sent as argument\n",
      "\n"
     ]
    }
   ],
   "source": [
    "help(square)"
   ]
  },
  {
   "cell_type": "markdown",
   "id": "2664c4be-13b5-4ee4-8d01-d14964abc478",
   "metadata": {},
   "source": [
    "### Methods"
   ]
  },
  {
   "cell_type": "code",
   "execution_count": 15,
   "id": "94d073c3-3ba1-428f-a717-2b99b8d16533",
   "metadata": {},
   "outputs": [],
   "source": [
    "class class1:\n",
    "    def method1(self):\n",
    "        return \"This is an instance method.\""
   ]
  },
  {
   "cell_type": "code",
   "execution_count": 16,
   "id": "c65189f9-66be-4d8b-ab28-a97767109f04",
   "metadata": {},
   "outputs": [
    {
     "data": {
      "text/plain": [
       "'This is an instance method.'"
      ]
     },
     "execution_count": 16,
     "metadata": {},
     "output_type": "execute_result"
    }
   ],
   "source": [
    "obj = class1()\n",
    "obj.method1()"
   ]
  },
  {
   "cell_type": "code",
   "execution_count": 17,
   "id": "2cb3cd6a-f4a4-42f8-a93e-4eed83a151f0",
   "metadata": {},
   "outputs": [],
   "source": [
    "class class1:\n",
    "\n",
    "    def __init__(self, a, b):\n",
    "        self.a = a\n",
    "        self.b = b\n",
    "\n",
    "    def method1(self):\n",
    "        return f\"This is the instance method and it can access the variables a = {self.a} and \\\n",
    "        b = {self.b} with the help of self\""
   ]
  },
  {
   "cell_type": "code",
   "execution_count": 18,
   "id": "240480f0-eef1-4d69-87d8-91cbb542641f",
   "metadata": {},
   "outputs": [
    {
     "data": {
      "text/plain": [
       "'This is the instance method and it can access the variables a = 2 and         b = 4 with the help of self'"
      ]
     },
     "execution_count": 18,
     "metadata": {},
     "output_type": "execute_result"
    }
   ],
   "source": [
    "obj = class1(2,4)\n",
    "obj.method1()"
   ]
  },
  {
   "cell_type": "code",
   "execution_count": 19,
   "id": "da0f153c-712e-485e-84ac-39384d42e25b",
   "metadata": {},
   "outputs": [],
   "source": [
    "class class2:\n",
    "\n",
    "    @classmethod\n",
    "    def method2(cls):\n",
    "        return \"This is a class method.\""
   ]
  },
  {
   "cell_type": "code",
   "execution_count": 20,
   "id": "d8e20404-96e7-4982-81b3-81c847a17049",
   "metadata": {},
   "outputs": [
    {
     "data": {
      "text/plain": [
       "'This is a class method.'"
      ]
     },
     "execution_count": 20,
     "metadata": {},
     "output_type": "execute_result"
    }
   ],
   "source": [
    "obj = class2()\n",
    "obj.method2()"
   ]
  },
  {
   "cell_type": "code",
   "execution_count": 21,
   "id": "afc49a37-9216-42c3-a3ca-e72e925eebb5",
   "metadata": {},
   "outputs": [
    {
     "data": {
      "text/plain": [
       "'This is a class method.'"
      ]
     },
     "execution_count": 21,
     "metadata": {},
     "output_type": "execute_result"
    }
   ],
   "source": [
    "class2.method2()"
   ]
  },
  {
   "cell_type": "code",
   "execution_count": 22,
   "id": "d80e9470-1d21-4097-8315-bcd68bc0ad3e",
   "metadata": {},
   "outputs": [],
   "source": [
    "class class3:\n",
    "\n",
    "    @staticmethod\n",
    "    def method3():\n",
    "        return \"This is a static method.\""
   ]
  },
  {
   "cell_type": "code",
   "execution_count": 23,
   "id": "52d17e2a-8a37-4192-97dd-a46e5efa8bd3",
   "metadata": {},
   "outputs": [
    {
     "data": {
      "text/plain": [
       "'This is a static method.'"
      ]
     },
     "execution_count": 23,
     "metadata": {},
     "output_type": "execute_result"
    }
   ],
   "source": [
    "obj = class3()\n",
    "obj.method3()"
   ]
  },
  {
   "cell_type": "code",
   "execution_count": 24,
   "id": "ca7f9a2c-c1da-4135-8492-42b34c9359ce",
   "metadata": {},
   "outputs": [
    {
     "data": {
      "text/plain": [
       "'This is a static method.'"
      ]
     },
     "execution_count": 24,
     "metadata": {},
     "output_type": "execute_result"
    }
   ],
   "source": [
    "class3.method3()"
   ]
  },
  {
   "cell_type": "code",
   "execution_count": null,
   "id": "68311578-b9ab-474b-8eaf-3486d10eaae6",
   "metadata": {},
   "outputs": [],
   "source": []
  }
 ],
 "metadata": {
  "kernelspec": {
   "display_name": "Python 3 (ipykernel)",
   "language": "python",
   "name": "python3"
  },
  "language_info": {
   "codemirror_mode": {
    "name": "ipython",
    "version": 3
   },
   "file_extension": ".py",
   "mimetype": "text/x-python",
   "name": "python",
   "nbconvert_exporter": "python",
   "pygments_lexer": "ipython3",
   "version": "3.12.0"
  }
 },
 "nbformat": 4,
 "nbformat_minor": 5
}
